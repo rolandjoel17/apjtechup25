{
 "cells": [
  {
   "cell_type": "markdown",
   "metadata": {
    "application/vnd.databricks.v1+cell": {
     "cellMetadata": {},
     "inputWidgets": {},
     "nuid": "d7c84a79-2620-4b7a-8cf3-8841005aab86",
     "showTitle": false,
     "tableResultSettingsMap": {},
     "title": ""
    }
   },
   "source": [
    "# Bronze to Silver ELT: Product Data Transformation\n",
    "\n",
    "This notebook cleans and enriches product data from the bronze layer to create the silver layer product tables. The transformation includes:\n",
    "\n",
    "- Data cleaning and standardization\n",
    "- Product categorization and enrichment\n",
    "- Brand analysis and categorization\n",
    "- Product lifecycle tracking\n",
    "- Data quality metrics calculation\n",
    "- Table optimization\n"
   ]
  },
  {
   "cell_type": "code",
   "execution_count": 0,
   "metadata": {
    "application/vnd.databricks.v1+cell": {
     "cellMetadata": {},
     "inputWidgets": {},
     "nuid": "7b449015-d446-4e62-b162-b21e7497e802",
     "showTitle": false,
     "tableResultSettingsMap": {},
     "title": ""
    },
    "vscode": {
     "languageId": "sql"
    }
   },
   "outputs": [],
   "source": [
    "\n",
    "-- Set up the environment\n",
    "USE catalog apjtechup;\n",
    "use database silver;\n"
   ]
  },
  {
   "cell_type": "code",
   "execution_count": 0,
   "metadata": {
    "application/vnd.databricks.v1+cell": {
     "cellMetadata": {},
     "inputWidgets": {},
     "nuid": "252b0db3-166f-462a-9274-983316dfeaf4",
     "showTitle": false,
     "tableResultSettingsMap": {},
     "title": ""
    },
    "vscode": {
     "languageId": "sql"
    }
   },
   "outputs": [],
   "source": [
    "-- Insert cleaned product data into silver layer\n",
    "INSERT OVERWRITE TABLE products_clean\n",
    "SELECT \n",
    "    p.product_id,\n",
    "    TRIM(p.product_name) as product_name,\n",
    "    -- Clean product name (remove extra spaces, special characters)\n",
    "    REGEXP_REPLACE(TRIM(p.product_name), '\\\\s+', ' ') as product_name_clean,\n",
    "    TRIM(p.description) as description,\n",
    "    p.category_id,\n",
    "    TRIM(c.category_name) as category_name,\n",
    "    -- Build category path (category hierarchy)\n",
    "    CASE \n",
    "        WHEN c.parent_category_id IS NOT NULL \n",
    "        THEN CONCAT(TRIM(pc.category_name), ' > ', TRIM(c.category_name))\n",
    "        ELSE TRIM(c.category_name)\n",
    "    END as category_path,\n",
    "    p.supplier_id,\n",
    "    TRIM(s.supplier_name) as supplier_name,\n",
    "    p.sku,\n",
    "    p.price,\n",
    "    p.cost,\n",
    "    -- Calculate profit margin\n",
    "    ROUND(((p.price - p.cost) / NULLIF(p.price, 0)) * 100, 2) as profit_margin,\n",
    "    -- Price tier classification\n",
    "    CASE \n",
    "        WHEN p.price < 25 THEN 'Budget'\n",
    "        WHEN p.price < 100 THEN 'Mid-Range'\n",
    "        WHEN p.price < 500 THEN 'Premium'\n",
    "        ELSE 'Luxury'\n",
    "    END as price_tier,\n",
    "    p.weight,\n",
    "    -- Weight category\n",
    "    CASE \n",
    "        WHEN p.weight IS NULL THEN 'Unknown'\n",
    "        WHEN p.weight < 1 THEN 'Light'\n",
    "        WHEN p.weight < 5 THEN 'Medium'\n",
    "        WHEN p.weight < 20 THEN 'Heavy'\n",
    "        ELSE 'Very Heavy'\n",
    "    END as weight_category,\n",
    "    p.dimensions,\n",
    "    TRIM(UPPER(p.color)) as color,\n",
    "    TRIM(UPPER(p.size)) as size,\n",
    "    TRIM(p.brand) as brand,\n",
    "    -- Brand category based on frequency\n",
    "    CASE \n",
    "        WHEN brand_counts.product_count >= 100 THEN 'Major Brand'\n",
    "        WHEN brand_counts.product_count >= 20 THEN 'Popular Brand'\n",
    "        WHEN brand_counts.product_count >= 5 THEN 'Niche Brand'\n",
    "        ELSE 'Boutique Brand'\n",
    "    END as brand_category,\n",
    "    CASE WHEN UPPER(p.status) = 'ACTIVE' THEN TRUE ELSE FALSE END as is_active,\n",
    "    -- Product lifecycle stage\n",
    "    CASE \n",
    "        WHEN UPPER(p.status) = 'DISCONTINUED' THEN 'Discontinued'\n",
    "        WHEN DATEDIFF(CURRENT_DATE(), p.created_at) <= 30 THEN 'New Launch'\n",
    "        WHEN DATEDIFF(CURRENT_DATE(), p.created_at) <= 180 THEN 'Growth'\n",
    "        WHEN DATEDIFF(CURRENT_DATE(), p.created_at) <= 730 THEN 'Mature'\n",
    "        ELSE 'Legacy'\n",
    "    END as product_lifecycle_stage,\n",
    "    p.created_at,\n",
    "    p.updated_at,\n",
    "    DATEDIFF(CURRENT_DATE(), p.created_at) as days_since_launch,\n",
    "    CURRENT_TIMESTAMP() as processing_timestamp\n",
    "FROM apjtechup.bronze.products_raw p\n",
    "LEFT JOIN apjtechup.bronze.categories_raw c ON p.category_id = c.category_id\n",
    "LEFT JOIN apjtechup.bronze.categories_raw pc ON c.parent_category_id = pc.category_id\n",
    "LEFT JOIN apjtechup.bronze.suppliers_raw s ON p.supplier_id = s.supplier_id\n",
    "LEFT JOIN (\n",
    "    -- Calculate brand frequency for brand categorization\n",
    "    SELECT \n",
    "        brand,\n",
    "        COUNT(*) as product_count\n",
    "    FROM apjtechup.bronze.products_raw \n",
    "    WHERE brand IS NOT NULL\n",
    "    GROUP BY brand\n",
    ") brand_counts ON p.brand = brand_counts.brand\n",
    "WHERE p.product_id IS NOT NULL\n",
    "  AND p.product_name IS NOT NULL\n",
    "  AND LENGTH(TRIM(p.product_name)) > 0\n",
    "  AND p.price > 0\n",
    "  AND p.cost >= 0;\n"
   ]
  },
  {
   "cell_type": "code",
   "execution_count": 0,
   "metadata": {
    "application/vnd.databricks.v1+cell": {
     "cellMetadata": {},
     "inputWidgets": {},
     "nuid": "d9144c3c-2c65-4b58-b9a5-a7d02fe6e780",
     "showTitle": false,
     "tableResultSettingsMap": {},
     "title": ""
    },
    "vscode": {
     "languageId": "sql"
    }
   },
   "outputs": [],
   "source": [
    "-- Create temporary view for product quality metrics\n",
    "CREATE OR REPLACE TEMPORARY VIEW product_quality_metrics AS\n",
    "SELECT \n",
    "    COUNT(*) as total_products,\n",
    "    COUNT(CASE WHEN is_active = TRUE THEN 1 END) as active_products,\n",
    "    COUNT(CASE WHEN category_name IS NOT NULL THEN 1 END) as products_with_categories,\n",
    "    COUNT(CASE WHEN supplier_name IS NOT NULL THEN 1 END) as products_with_suppliers,\n",
    "    COUNT(CASE WHEN profit_margin > 0 THEN 1 END) as profitable_products,\n",
    "    AVG(profit_margin) as avg_profit_margin,\n",
    "    COUNT(CASE WHEN price_tier = 'Budget' THEN 1 END) as budget_products,\n",
    "    COUNT(CASE WHEN price_tier = 'Mid-Range' THEN 1 END) as midrange_products,\n",
    "    COUNT(CASE WHEN price_tier = 'Premium' THEN 1 END) as premium_products,\n",
    "    COUNT(CASE WHEN price_tier = 'Luxury' THEN 1 END) as luxury_products,\n",
    "    COUNT(CASE WHEN product_lifecycle_stage = 'New Launch' THEN 1 END) as new_launches,\n",
    "    COUNT(CASE WHEN product_lifecycle_stage = 'Growth' THEN 1 END) as growth_stage,\n",
    "    COUNT(CASE WHEN product_lifecycle_stage = 'Mature' THEN 1 END) as mature_products,\n",
    "    COUNT(CASE WHEN product_lifecycle_stage = 'Legacy' THEN 1 END) as legacy_products,\n",
    "    COUNT(CASE WHEN product_lifecycle_stage = 'Discontinued' THEN 1 END) as discontinued_products\n",
    "FROM products_clean;\n"
   ]
  },
  {
   "cell_type": "code",
   "execution_count": 0,
   "metadata": {
    "application/vnd.databricks.v1+cell": {
     "cellMetadata": {},
     "inputWidgets": {},
     "nuid": "37d599da-9a9f-4019-96bc-caa7e75c4b39",
     "showTitle": false,
     "tableResultSettingsMap": {},
     "title": ""
    },
    "vscode": {
     "languageId": "sql"
    }
   },
   "outputs": [],
   "source": [
    "-- Category distribution\n",
    "CREATE OR REPLACE TEMPORARY VIEW category_distribution AS\n",
    "SELECT \n",
    "    category_name,\n",
    "    COUNT(*) as product_count,\n",
    "    AVG(price) as avg_price,\n",
    "    AVG(profit_margin) as avg_margin,\n",
    "    COUNT(CASE WHEN is_active = TRUE THEN 1 END) as active_count\n",
    "FROM products_clean\n",
    "WHERE category_name IS NOT NULL\n",
    "GROUP BY category_name\n",
    "ORDER BY product_count DESC;\n"
   ]
  },
  {
   "cell_type": "code",
   "execution_count": 0,
   "metadata": {
    "application/vnd.databricks.v1+cell": {
     "cellMetadata": {},
     "inputWidgets": {},
     "nuid": "568a6f5e-c15b-4c40-a903-24c3c8a07172",
     "showTitle": false,
     "tableResultSettingsMap": {},
     "title": ""
    },
    "vscode": {
     "languageId": "sql"
    }
   },
   "outputs": [],
   "source": [
    "-- Brand distribution\n",
    "CREATE OR REPLACE TEMPORARY VIEW brand_distribution AS\n",
    "SELECT \n",
    "    brand,\n",
    "    brand_category,\n",
    "    COUNT(*) as product_count,\n",
    "    AVG(price) as avg_price,\n",
    "    AVG(profit_margin) as avg_margin\n",
    "FROM products_clean\n",
    "WHERE brand IS NOT NULL\n",
    "GROUP BY brand, brand_category\n",
    "ORDER BY product_count DESC\n",
    "LIMIT 20;\n"
   ]
  },
  {
   "cell_type": "code",
   "execution_count": 0,
   "metadata": {
    "application/vnd.databricks.v1+cell": {
     "cellMetadata": {},
     "inputWidgets": {},
     "nuid": "85c428a8-5e33-4473-86d2-49b11af2f031",
     "showTitle": false,
     "tableResultSettingsMap": {},
     "title": ""
    },
    "vscode": {
     "languageId": "sql"
    }
   },
   "outputs": [],
   "source": [
    "-- Display quality metrics\n",
    "SELECT 'Product Quality Metrics' as metric_type;\n",
    "SELECT * FROM product_quality_metrics;\n",
    "\n",
    "SELECT 'Top Categories' as metric_type;\n",
    "SELECT * FROM category_distribution LIMIT 10;\n",
    "\n",
    "SELECT 'Top Brands' as metric_type;\n",
    "SELECT * FROM brand_distribution;\n"
   ]
  },
  {
   "cell_type": "code",
   "execution_count": 0,
   "metadata": {
    "application/vnd.databricks.v1+cell": {
     "cellMetadata": {},
     "inputWidgets": {},
     "nuid": "db438a4f-695e-4a43-bab9-aef18e25c03d",
     "showTitle": false,
     "tableResultSettingsMap": {},
     "title": ""
    },
    "vscode": {
     "languageId": "sql"
    }
   },
   "outputs": [],
   "source": [
    "-- Optimize table\n",
    "OPTIMIZE products_clean;\n",
    "\n",
    "-- Update table statistics\n",
    "ANALYZE TABLE products_clean COMPUTE STATISTICS;\n"
   ]
  }
 ],
 "metadata": {
  "application/vnd.databricks.v1+notebook": {
   "computePreferences": null,
   "dashboards": [],
   "environmentMetadata": null,
   "inputWidgetPreferences": null,
   "language": "sql",
   "notebookMetadata": {
    "pythonIndentUnit": 4
   },
   "notebookName": "02_bronze_to_silver_products",
   "widgets": {}
  },
  "language_info": {
   "name": "sql"
  }
 },
 "nbformat": 4,
 "nbformat_minor": 0
}
