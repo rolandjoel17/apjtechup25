{
 "cells": [
  {
   "cell_type": "markdown",
   "metadata": {
    "application/vnd.databricks.v1+cell": {
     "cellMetadata": {
      "byteLimit": 2048000,
      "rowLimit": 10000
     },
     "inputWidgets": {},
     "nuid": "a47e0e7c-df6e-4fc2-8272-3925b27d6bb4",
     "showTitle": false,
     "tableResultSettingsMap": {},
     "title": ""
    }
   },
   "source": [
    "# Master Bronze to Silver ELT Process\n",
    "\n",
    "This notebook orchestrates the entire Bronze to Silver data transformation process. It executes all the individual transformation notebooks in the correct order and handles additional tables not covered in the individual notebooks.\n",
    "\n",
    "The process includes:\n",
    "1. Customer data transformation\n",
    "2. Product data transformation\n",
    "3. Order data transformation\n",
    "4. Order items transformation\n",
    "5. Inventory transformation\n",
    "6. Reviews transformation\n",
    "7. Web events transformation\n",
    "\n",
    "Each step includes data quality checks and table optimization.\n"
   ]
  },
  {
   "cell_type": "code",
   "execution_count": 0,
   "metadata": {
    "application/vnd.databricks.v1+cell": {
     "cellMetadata": {
      "byteLimit": 2048000,
      "rowLimit": 10000
     },
     "inputWidgets": {},
     "nuid": "7351de10-d803-475c-8bb5-1144b87007d8",
     "showTitle": false,
     "tableResultSettingsMap": {},
     "title": ""
    }
   },
   "outputs": [],
   "source": [
    "DECLARE OR REPLACE VARIABLE myusername STRING; \n",
    "SET VAR myusername = (select concat( 'silver_', replace(replace(current_user(),'@',''),'.','')));"
   ]
  },
  {
   "cell_type": "code",
   "execution_count": 0,
   "metadata": {
    "application/vnd.databricks.v1+cell": {
     "cellMetadata": {
      "byteLimit": 2048000,
      "rowLimit": 10000
     },
     "inputWidgets": {},
     "nuid": "ecb7a56f-acf5-47d1-9042-f8ab794ee891",
     "showTitle": false,
     "tableResultSettingsMap": {},
     "title": ""
    }
   },
   "outputs": [],
   "source": [
    "USE catalog apjtechup;"
   ]
  },
  {
   "cell_type": "code",
   "execution_count": 0,
   "metadata": {
    "application/vnd.databricks.v1+cell": {
     "cellMetadata": {
      "byteLimit": 2048000,
      "rowLimit": 10000
     },
     "inputWidgets": {},
     "nuid": "d675b17a-f1ae-4e7e-902c-da26c71712a1",
     "showTitle": false,
     "tableResultSettingsMap": {},
     "title": ""
    }
   },
   "outputs": [],
   "source": [
    "create database if not exists IDENTIFIER(myusername);\n",
    "use database IDENTIFIER(myusername);"
   ]
  },
  {
   "cell_type": "code",
   "execution_count": 0,
   "metadata": {
    "application/vnd.databricks.v1+cell": {
     "cellMetadata": {
      "byteLimit": 2048000,
      "rowLimit": 10000
     },
     "inputWidgets": {},
     "nuid": "4e57c7fe-0740-4029-9660-f868348d9f49",
     "showTitle": false,
     "tableResultSettingsMap": {},
     "title": ""
    },
    "vscode": {
     "languageId": "sql"
    }
   },
   "outputs": [],
   "source": [
    "-- Log transformation start\n",
    "SELECT 'Starting Bronze to Silver ELT Process' as status, CURRENT_TIMESTAMP() as start_time;\n"
   ]
  },
  {
   "cell_type": "code",
   "execution_count": 0,
   "metadata": {
    "application/vnd.databricks.v1+cell": {
     "cellMetadata": {
      "byteLimit": 2048000,
      "rowLimit": 10000
     },
     "inputWidgets": {},
     "nuid": "1758eaab-981e-49be-9d0a-18e4d728a7c9",
     "showTitle": false,
     "tableResultSettingsMap": {},
     "title": ""
    },
    "vscode": {
     "languageId": "sql"
    }
   },
   "outputs": [],
   "source": [
    "-- 1. Transform Customers (Reference data first)\n",
    "SELECT 'Transforming Customers...' as step, CURRENT_TIMESTAMP() as timestamp;\n"
   ]
  },
  {
   "cell_type": "code",
   "execution_count": 0,
   "metadata": {
    "application/vnd.databricks.v1+cell": {
     "cellMetadata": {
      "byteLimit": 2048000,
      "rowLimit": 10000
     },
     "inputWidgets": {},
     "nuid": "60d39195-e956-4f61-b093-5e6310acfb2c",
     "showTitle": false,
     "tableResultSettingsMap": {},
     "title": ""
    },
    "vscode": {
     "languageId": "sql"
    }
   },
   "outputs": [],
   "source": [
    "-- Insert cleaned customer data into silver layer\n",
    "CREATE OR REPLACE TABLE customers_clean\n",
    "SELECT \n",
    "    c.customer_id,\n",
    "    TRIM(UPPER(c.first_name)) as first_name,\n",
    "    TRIM(UPPER(c.last_name)) as last_name,\n",
    "    CONCAT(TRIM(UPPER(c.first_name)), ' ', TRIM(UPPER(c.last_name))) as full_name,\n",
    "    LOWER(TRIM(c.email)) as email,\n",
    "    CASE \n",
    "        WHEN c.email LIKE '%@%' THEN SPLIT(LOWER(TRIM(c.email)), '@')[1]\n",
    "        ELSE NULL \n",
    "    END as email_domain,\n",
    "    c.phone,\n",
    "    -- Clean phone numbers (remove non-numeric characters)\n",
    "    REGEXP_REPLACE(c.phone, '[^0-9]', '') as phone_cleaned,\n",
    "    c.registration_date,\n",
    "    c.birth_date,\n",
    "    -- Calculate age\n",
    "    CASE \n",
    "        WHEN c.birth_date IS NOT NULL \n",
    "        THEN YEAR(CURRENT_DATE()) - YEAR(c.birth_date) - \n",
    "             CASE WHEN MONTH(CURRENT_DATE()) < MONTH(c.birth_date) \n",
    "                  OR (MONTH(CURRENT_DATE()) = MONTH(c.birth_date) AND DAY(CURRENT_DATE()) < DAY(c.birth_date))\n",
    "                  THEN 1 ELSE 0 END\n",
    "        ELSE NULL\n",
    "    END as age,\n",
    "    -- Age grouping\n",
    "    CASE \n",
    "        WHEN c.birth_date IS NULL THEN 'Unknown'\n",
    "        WHEN YEAR(CURRENT_DATE()) - YEAR(c.birth_date) < 25 THEN '18-24'\n",
    "        WHEN YEAR(CURRENT_DATE()) - YEAR(c.birth_date) < 35 THEN '25-34'\n",
    "        WHEN YEAR(CURRENT_DATE()) - YEAR(c.birth_date) < 45 THEN '35-44'\n",
    "        WHEN YEAR(CURRENT_DATE()) - YEAR(c.birth_date) < 55 THEN '45-54'\n",
    "        WHEN YEAR(CURRENT_DATE()) - YEAR(c.birth_date) < 65 THEN '55-64'\n",
    "        ELSE '65+'\n",
    "    END as age_group,\n",
    "    COALESCE(UPPER(c.gender), 'Unknown') as gender,\n",
    "    TRIM(c.address_line1) as address_line1,\n",
    "    TRIM(c.address_line2) as address_line2,\n",
    "    TRIM(UPPER(c.city)) as city,\n",
    "    TRIM(UPPER(c.state)) as state,\n",
    "    TRIM(UPPER(c.country)) as country,\n",
    "    c.postal_code,\n",
    "    YEAR(c.registration_date) as registration_year,\n",
    "    MONTH(c.registration_date) as registration_month,\n",
    "    DATEDIFF(CURRENT_DATE(), c.registration_date) as days_since_registration,\n",
    "    -- Customer tier based on registration tenure\n",
    "    CASE \n",
    "        WHEN DATEDIFF(CURRENT_DATE(), c.registration_date) >= 730 THEN 'Gold'\n",
    "        WHEN DATEDIFF(CURRENT_DATE(), c.registration_date) >= 365 THEN 'Silver'\n",
    "        WHEN DATEDIFF(CURRENT_DATE(), c.registration_date) >= 90 THEN 'Bronze'\n",
    "        ELSE 'New'\n",
    "    END as customer_tier,\n",
    "    TRIM(LOWER(c.source_system)) as source_system,\n",
    "    c.created_at,\n",
    "    CURRENT_TIMESTAMP() as updated_at\n",
    "FROM apjtechup.bronze.customers_raw c\n",
    "WHERE c.customer_id IS NOT NULL\n",
    "  AND c.email IS NOT NULL\n",
    "  AND c.email LIKE '%@%'  -- Basic email validation\n",
    "  AND LENGTH(TRIM(c.first_name)) > 0\n",
    "  AND LENGTH(TRIM(c.last_name)) > 0;\n"
   ]
  },
  {
   "cell_type": "code",
   "execution_count": 0,
   "metadata": {
    "application/vnd.databricks.v1+cell": {
     "cellMetadata": {
      "byteLimit": 2048000,
      "rowLimit": 10000
     },
     "inputWidgets": {},
     "nuid": "3c9da54c-ba47-4023-ab59-af660626679e",
     "showTitle": false,
     "tableResultSettingsMap": {},
     "title": ""
    }
   },
   "outputs": [],
   "source": [
    "-- Add data quality metrics\n",
    "CREATE OR REPLACE TEMPORARY VIEW customer_quality_metrics AS\n",
    "SELECT \n",
    "    COUNT(*) as total_customers,\n",
    "    COUNT(CASE WHEN email_domain IS NOT NULL THEN 1 END) as valid_emails,\n",
    "    COUNT(CASE WHEN phone_cleaned IS NOT NULL AND LENGTH(phone_cleaned) >= 10 THEN 1 END) as valid_phones,\n",
    "    COUNT(CASE WHEN age IS NOT NULL THEN 1 END) as customers_with_age,\n",
    "    COUNT(CASE WHEN age_group != 'Unknown' THEN 1 END) as customers_with_age_group,\n",
    "    AVG(days_since_registration) as avg_days_since_registration,\n",
    "    COUNT(CASE WHEN customer_tier = 'Gold' THEN 1 END) as gold_customers,\n",
    "    COUNT(CASE WHEN customer_tier = 'Silver' THEN 1 END) as silver_customers,\n",
    "    COUNT(CASE WHEN customer_tier = 'Bronze' THEN 1 END) as bronze_customers,\n",
    "    COUNT(CASE WHEN customer_tier = 'New' THEN 1 END) as new_customers\n",
    "FROM customers_clean;\n"
   ]
  },
  {
   "cell_type": "code",
   "execution_count": 0,
   "metadata": {
    "application/vnd.databricks.v1+cell": {
     "cellMetadata": {
      "byteLimit": 2048000,
      "rowLimit": 10000
     },
     "inputWidgets": {},
     "nuid": "0b54c243-22f6-4612-bf9e-2aaa38f82f98",
     "showTitle": false,
     "tableResultSettingsMap": {},
     "title": ""
    }
   },
   "outputs": [],
   "source": [
    "SELECT * FROM customer_quality_metrics;\n"
   ]
  },
  {
   "cell_type": "code",
   "execution_count": 0,
   "metadata": {
    "application/vnd.databricks.v1+cell": {
     "cellMetadata": {
      "byteLimit": 2048000,
      "rowLimit": 10000
     },
     "inputWidgets": {},
     "nuid": "09686389-3ac6-42ca-926b-b74986365952",
     "showTitle": false,
     "tableResultSettingsMap": {},
     "title": ""
    },
    "vscode": {
     "languageId": "sql"
    }
   },
   "outputs": [],
   "source": [
    "-- 2. Transform Products (Reference data)\n",
    "SELECT 'Transforming Products...' as step, CURRENT_TIMESTAMP() as timestamp;\n"
   ]
  },
  {
   "cell_type": "markdown",
   "metadata": {
    "application/vnd.databricks.v1+cell": {
     "cellMetadata": {
      "byteLimit": 2048000,
      "rowLimit": 10000
     },
     "inputWidgets": {},
     "nuid": "a3230e0a-09c6-488f-846f-d45c71dfd772",
     "showTitle": false,
     "tableResultSettingsMap": {},
     "title": ""
    }
   },
   "source": [
    "Run the products transformation notebook\n"
   ]
  },
  {
   "cell_type": "code",
   "execution_count": 0,
   "metadata": {
    "application/vnd.databricks.v1+cell": {
     "cellMetadata": {
      "byteLimit": 2048000,
      "rowLimit": 10000
     },
     "inputWidgets": {},
     "nuid": "8122c214-debb-48dd-b329-0d0b2f7716a3",
     "showTitle": false,
     "tableResultSettingsMap": {},
     "title": ""
    },
    "vscode": {
     "languageId": "sql"
    }
   },
   "outputs": [],
   "source": [
    "-- Insert cleaned product data into silver layer\n",
    "CREATE OR REPLACE TABLE products_clean\n",
    "SELECT \n",
    "    p.product_id,\n",
    "    TRIM(p.product_name) as product_name,\n",
    "    -- Clean product name (remove extra spaces, special characters)\n",
    "    REGEXP_REPLACE(TRIM(p.product_name), '\\\\s+', ' ') as product_name_clean,\n",
    "    TRIM(p.description) as description,\n",
    "    p.category_id,\n",
    "    TRIM(c.category_name) as category_name,\n",
    "    -- Build category path (category hierarchy)\n",
    "    CASE \n",
    "        WHEN c.parent_category_id IS NOT NULL \n",
    "        THEN CONCAT(TRIM(pc.category_name), ' > ', TRIM(c.category_name))\n",
    "        ELSE TRIM(c.category_name)\n",
    "    END as category_path,\n",
    "    p.supplier_id,\n",
    "    TRIM(s.supplier_name) as supplier_name,\n",
    "    p.sku,\n",
    "    p.price,\n",
    "    p.cost,\n",
    "    -- Calculate profit margin\n",
    "    ROUND(((p.price - p.cost) / NULLIF(p.price, 0)) * 100, 2) as profit_margin,\n",
    "    -- Price tier classification\n",
    "    CASE \n",
    "        WHEN p.price < 25 THEN 'Budget'\n",
    "        WHEN p.price < 100 THEN 'Mid-Range'\n",
    "        WHEN p.price < 500 THEN 'Premium'\n",
    "        ELSE 'Luxury'\n",
    "    END as price_tier,\n",
    "    p.weight,\n",
    "    -- Weight category\n",
    "    CASE \n",
    "        WHEN p.weight IS NULL THEN 'Unknown'\n",
    "        WHEN p.weight < 1 THEN 'Light'\n",
    "        WHEN p.weight < 5 THEN 'Medium'\n",
    "        WHEN p.weight < 20 THEN 'Heavy'\n",
    "        ELSE 'Very Heavy'\n",
    "    END as weight_category,\n",
    "    p.dimensions,\n",
    "    TRIM(UPPER(p.color)) as color,\n",
    "    TRIM(UPPER(p.size)) as size,\n",
    "    TRIM(p.brand) as brand,\n",
    "    -- Brand category based on frequency\n",
    "    CASE \n",
    "        WHEN brand_counts.product_count >= 100 THEN 'Major Brand'\n",
    "        WHEN brand_counts.product_count >= 20 THEN 'Popular Brand'\n",
    "        WHEN brand_counts.product_count >= 5 THEN 'Niche Brand'\n",
    "        ELSE 'Boutique Brand'\n",
    "    END as brand_category,\n",
    "    CASE WHEN UPPER(p.status) = 'ACTIVE' THEN TRUE ELSE FALSE END as is_active,\n",
    "    -- Product lifecycle stage\n",
    "    CASE \n",
    "        WHEN UPPER(p.status) = 'DISCONTINUED' THEN 'Discontinued'\n",
    "        WHEN DATEDIFF(CURRENT_DATE(), p.created_at) <= 30 THEN 'New Launch'\n",
    "        WHEN DATEDIFF(CURRENT_DATE(), p.created_at) <= 180 THEN 'Growth'\n",
    "        WHEN DATEDIFF(CURRENT_DATE(), p.created_at) <= 730 THEN 'Mature'\n",
    "        ELSE 'Legacy'\n",
    "    END as product_lifecycle_stage,\n",
    "    p.created_at,\n",
    "    p.updated_at,\n",
    "    DATEDIFF(CURRENT_DATE(), p.created_at) as days_since_launch,\n",
    "    CURRENT_TIMESTAMP() as processing_timestamp\n",
    "FROM apjtechup.bronze.products_raw p\n",
    "LEFT JOIN apjtechup.bronze.categories_raw c ON p.category_id = c.category_id\n",
    "LEFT JOIN apjtechup.bronze.categories_raw pc ON c.parent_category_id = pc.category_id\n",
    "LEFT JOIN apjtechup.bronze.suppliers_raw s ON p.supplier_id = s.supplier_id\n",
    "LEFT JOIN (\n",
    "    -- Calculate brand frequency for brand categorization\n",
    "    SELECT \n",
    "        brand,\n",
    "        COUNT(*) as product_count\n",
    "    FROM apjtechup.bronze.products_raw \n",
    "    WHERE brand IS NOT NULL\n",
    "    GROUP BY brand\n",
    ") brand_counts ON p.brand = brand_counts.brand\n",
    "WHERE p.product_id IS NOT NULL\n",
    "  AND p.product_name IS NOT NULL\n",
    "  AND LENGTH(TRIM(p.product_name)) > 0\n",
    "  AND p.price > 0\n",
    "  AND p.cost >= 0;\n"
   ]
  },
  {
   "cell_type": "code",
   "execution_count": 0,
   "metadata": {
    "application/vnd.databricks.v1+cell": {
     "cellMetadata": {
      "byteLimit": 2048000,
      "rowLimit": 10000
     },
     "inputWidgets": {},
     "nuid": "c3ff404b-0b80-42cf-9afa-26d65d36cd90",
     "showTitle": false,
     "tableResultSettingsMap": {},
     "title": ""
    }
   },
   "outputs": [],
   "source": [
    "-- Create temporary view for product quality metrics\n",
    "CREATE OR REPLACE TEMPORARY VIEW product_quality_metrics AS\n",
    "SELECT \n",
    "    COUNT(*) as total_products,\n",
    "    COUNT(CASE WHEN is_active = TRUE THEN 1 END) as active_products,\n",
    "    COUNT(CASE WHEN category_name IS NOT NULL THEN 1 END) as products_with_categories,\n",
    "    COUNT(CASE WHEN supplier_name IS NOT NULL THEN 1 END) as products_with_suppliers,\n",
    "    COUNT(CASE WHEN profit_margin > 0 THEN 1 END) as profitable_products,\n",
    "    AVG(profit_margin) as avg_profit_margin,\n",
    "    COUNT(CASE WHEN price_tier = 'Budget' THEN 1 END) as budget_products,\n",
    "    COUNT(CASE WHEN price_tier = 'Mid-Range' THEN 1 END) as midrange_products,\n",
    "    COUNT(CASE WHEN price_tier = 'Premium' THEN 1 END) as premium_products,\n",
    "    COUNT(CASE WHEN price_tier = 'Luxury' THEN 1 END) as luxury_products,\n",
    "    COUNT(CASE WHEN product_lifecycle_stage = 'New Launch' THEN 1 END) as new_launches,\n",
    "    COUNT(CASE WHEN product_lifecycle_stage = 'Growth' THEN 1 END) as growth_stage,\n",
    "    COUNT(CASE WHEN product_lifecycle_stage = 'Mature' THEN 1 END) as mature_products,\n",
    "    COUNT(CASE WHEN product_lifecycle_stage = 'Legacy' THEN 1 END) as legacy_products,\n",
    "    COUNT(CASE WHEN product_lifecycle_stage = 'Discontinued' THEN 1 END) as discontinued_products\n",
    "FROM products_clean;\n"
   ]
  },
  {
   "cell_type": "code",
   "execution_count": 0,
   "metadata": {
    "application/vnd.databricks.v1+cell": {
     "cellMetadata": {
      "byteLimit": 2048000,
      "rowLimit": 10000
     },
     "inputWidgets": {},
     "nuid": "020c32a8-ba06-4b5b-80a3-cb2891b05bf2",
     "showTitle": false,
     "tableResultSettingsMap": {},
     "title": ""
    }
   },
   "outputs": [],
   "source": [
    "-- Category distribution\n",
    "CREATE OR REPLACE TEMPORARY VIEW category_distribution AS\n",
    "SELECT \n",
    "    category_name,\n",
    "    COUNT(*) as product_count,\n",
    "    AVG(price) as avg_price,\n",
    "    AVG(profit_margin) as avg_margin,\n",
    "    COUNT(CASE WHEN is_active = TRUE THEN 1 END) as active_count\n",
    "FROM products_clean\n",
    "WHERE category_name IS NOT NULL\n",
    "GROUP BY category_name\n",
    "ORDER BY product_count DESC;\n"
   ]
  },
  {
   "cell_type": "code",
   "execution_count": 0,
   "metadata": {
    "application/vnd.databricks.v1+cell": {
     "cellMetadata": {
      "byteLimit": 2048000,
      "rowLimit": 10000
     },
     "inputWidgets": {},
     "nuid": "1fa2d001-e42f-4c82-8979-7ca3dc82dda6",
     "showTitle": false,
     "tableResultSettingsMap": {},
     "title": ""
    }
   },
   "outputs": [],
   "source": [
    "-- Brand distribution\n",
    "CREATE OR REPLACE TEMPORARY VIEW brand_distribution AS\n",
    "SELECT \n",
    "    brand,\n",
    "    brand_category,\n",
    "    COUNT(*) as product_count,\n",
    "    AVG(price) as avg_price,\n",
    "    AVG(profit_margin) as avg_margin\n",
    "FROM products_clean\n",
    "WHERE brand IS NOT NULL\n",
    "GROUP BY brand, brand_category\n",
    "ORDER BY product_count DESC\n",
    "LIMIT 20;\n"
   ]
  },
  {
   "cell_type": "code",
   "execution_count": 0,
   "metadata": {
    "application/vnd.databricks.v1+cell": {
     "cellMetadata": {
      "byteLimit": 2048000,
      "rowLimit": 10000
     },
     "inputWidgets": {},
     "nuid": "2f3f84a8-d434-48e7-ab52-c57aa7ca8cb7",
     "showTitle": false,
     "tableResultSettingsMap": {},
     "title": ""
    }
   },
   "outputs": [],
   "source": [
    "-- Display quality metrics\n",
    "SELECT 'Product Quality Metrics' as metric_type;\n",
    "SELECT * FROM product_quality_metrics;\n",
    "\n",
    "SELECT 'Top Categories' as metric_type;\n",
    "SELECT * FROM category_distribution LIMIT 10;\n",
    "\n",
    "SELECT 'Top Brands' as metric_type;\n",
    "SELECT * FROM brand_distribution;\n"
   ]
  },
  {
   "cell_type": "code",
   "execution_count": 0,
   "metadata": {
    "application/vnd.databricks.v1+cell": {
     "cellMetadata": {
      "byteLimit": 2048000,
      "rowLimit": 10000
     },
     "inputWidgets": {},
     "nuid": "8f39a8d3-c7e4-40f6-918e-dc14b94652ff",
     "showTitle": false,
     "tableResultSettingsMap": {},
     "title": ""
    },
    "vscode": {
     "languageId": "sql"
    }
   },
   "outputs": [],
   "source": [
    "-- 3. Transform Orders (Transaction data)\n",
    "SELECT 'Transforming Orders...' as step, CURRENT_TIMESTAMP() as timestamp;\n"
   ]
  },
  {
   "cell_type": "markdown",
   "metadata": {
    "application/vnd.databricks.v1+cell": {
     "cellMetadata": {
      "byteLimit": 2048000,
      "rowLimit": 10000
     },
     "inputWidgets": {},
     "nuid": "ce153403-f923-4ee3-98a0-26f5716bee37",
     "showTitle": false,
     "tableResultSettingsMap": {},
     "title": ""
    }
   },
   "source": [
    "Run the orders transformation notebook\n"
   ]
  },
  {
   "cell_type": "code",
   "execution_count": 0,
   "metadata": {
    "application/vnd.databricks.v1+cell": {
     "cellMetadata": {
      "byteLimit": 2048000,
      "rowLimit": 10000
     },
     "inputWidgets": {},
     "nuid": "3400ad56-e72c-4c7f-9967-bef178ded905",
     "showTitle": false,
     "tableResultSettingsMap": {},
     "title": ""
    },
    "vscode": {
     "languageId": "sql"
    }
   },
   "outputs": [],
   "source": [
    "-- Insert cleaned order data into silver layer\n",
    "CREATE OR REPLACE TABLE orders_clean\n",
    "SELECT \n",
    "    o.order_id,\n",
    "    o.customer_id,\n",
    "    o.order_date,\n",
    "    DATE(o.order_date) as order_date_only,\n",
    "    YEAR(o.order_date) as order_year,\n",
    "    MONTH(o.order_date) as order_month,\n",
    "    QUARTER(o.order_date) as order_quarter,\n",
    "    CASE DAYOFWEEK(o.order_date)\n",
    "        WHEN 1 THEN 'Sunday'\n",
    "        WHEN 2 THEN 'Monday'\n",
    "        WHEN 3 THEN 'Tuesday'\n",
    "        WHEN 4 THEN 'Wednesday'\n",
    "        WHEN 5 THEN 'Thursday'\n",
    "        WHEN 6 THEN 'Friday'\n",
    "        WHEN 7 THEN 'Saturday'\n",
    "    END as order_day_of_week,\n",
    "    HOUR(o.order_date) as order_hour,\n",
    "    UPPER(TRIM(o.order_status)) as order_status,\n",
    "    -- Order status categorization\n",
    "    CASE \n",
    "        WHEN UPPER(TRIM(o.order_status)) IN ('PENDING', 'PROCESSING') THEN 'In Progress'\n",
    "        WHEN UPPER(TRIM(o.order_status)) IN ('SHIPPED', 'DELIVERED') THEN 'Completed'\n",
    "        WHEN UPPER(TRIM(o.order_status)) IN ('CANCELLED', 'RETURNED') THEN 'Cancelled/Returned'\n",
    "        ELSE 'Other'\n",
    "    END as order_status_category,\n",
    "    LOWER(TRIM(o.payment_method)) as payment_method,\n",
    "    -- Payment method categorization\n",
    "    CASE \n",
    "        WHEN LOWER(TRIM(o.payment_method)) IN ('credit_card', 'debit_card') THEN 'Card Payment'\n",
    "        WHEN LOWER(TRIM(o.payment_method)) IN ('paypal', 'apple_pay', 'google_pay') THEN 'Digital Wallet'\n",
    "        ELSE 'Other'\n",
    "    END as payment_method_category,\n",
    "    UPPER(TRIM(o.payment_status)) as payment_status,\n",
    "    TRIM(o.shipping_address) as shipping_address,\n",
    "    TRIM(o.billing_address) as billing_address,\n",
    "    -- Check if billing and shipping addresses are the same\n",
    "    CASE \n",
    "        WHEN TRIM(o.shipping_address) = TRIM(o.billing_address) THEN TRUE\n",
    "        ELSE FALSE\n",
    "    END as same_billing_shipping,\n",
    "    o.total_amount,\n",
    "    o.tax_amount,\n",
    "    o.shipping_cost,\n",
    "    o.discount_amount,\n",
    "    -- Calculate net amount (total - tax for comparison purposes)\n",
    "    ROUND(o.total_amount - COALESCE(o.tax_amount, 0), 2) as net_amount,\n",
    "    -- Order value tier\n",
    "    CASE \n",
    "        WHEN o.total_amount < 50 THEN 'Small'\n",
    "        WHEN o.total_amount < 150 THEN 'Medium'\n",
    "        WHEN o.total_amount < 500 THEN 'Large'\n",
    "        ELSE 'Enterprise'\n",
    "    END as order_value_tier,\n",
    "    CASE WHEN COALESCE(o.discount_amount, 0) > 0 THEN TRUE ELSE FALSE END as has_discount,\n",
    "    -- Calculate discount percentage\n",
    "    CASE \n",
    "        WHEN o.total_amount > 0 AND COALESCE(o.discount_amount, 0) > 0 \n",
    "        THEN ROUND((o.discount_amount / o.total_amount) * 100, 2)\n",
    "        ELSE 0\n",
    "    END as discount_percentage,\n",
    "    o.created_at,\n",
    "    o.updated_at,\n",
    "    CURRENT_TIMESTAMP() as processing_timestamp\n",
    "FROM apjtechup.bronze.orders_raw o\n",
    "WHERE o.order_id IS NOT NULL\n",
    "  AND o.customer_id IS NOT NULL\n",
    "  AND o.order_date IS NOT NULL\n",
    "  AND o.total_amount >= 0;\n"
   ]
  },
  {
   "cell_type": "code",
   "execution_count": 0,
   "metadata": {
    "application/vnd.databricks.v1+cell": {
     "cellMetadata": {
      "byteLimit": 2048000,
      "rowLimit": 10000
     },
     "inputWidgets": {},
     "nuid": "0c81e94f-42a9-4a0d-8ff4-d3cf304385f5",
     "showTitle": false,
     "tableResultSettingsMap": {},
     "title": ""
    }
   },
   "outputs": [],
   "source": [
    "-- Create temporary views for order analytics\n",
    "CREATE OR REPLACE TEMPORARY VIEW order_quality_metrics AS\n",
    "SELECT \n",
    "    COUNT(*) as total_orders,\n",
    "    COUNT(CASE WHEN order_status_category = 'Completed' THEN 1 END) as completed_orders,\n",
    "    COUNT(CASE WHEN order_status_category = 'In Progress' THEN 1 END) as in_progress_orders,\n",
    "    COUNT(CASE WHEN order_status_category = 'Cancelled/Returned' THEN 1 END) as cancelled_orders,\n",
    "    ROUND(AVG(total_amount), 2) as avg_order_value,\n",
    "    ROUND(SUM(total_amount), 2) as total_revenue,\n",
    "    COUNT(CASE WHEN has_discount = TRUE THEN 1 END) as orders_with_discount,\n",
    "    ROUND(AVG(CASE WHEN has_discount = TRUE THEN discount_percentage END), 2) as avg_discount_percentage,\n",
    "    COUNT(CASE WHEN order_value_tier = 'Small' THEN 1 END) as small_orders,\n",
    "    COUNT(CASE WHEN order_value_tier = 'Medium' THEN 1 END) as medium_orders,\n",
    "    COUNT(CASE WHEN order_value_tier = 'Large' THEN 1 END) as large_orders,\n",
    "    COUNT(CASE WHEN order_value_tier = 'Enterprise' THEN 1 END) as enterprise_orders\n",
    "FROM orders_clean;\n"
   ]
  },
  {
   "cell_type": "code",
   "execution_count": 0,
   "metadata": {
    "application/vnd.databricks.v1+cell": {
     "cellMetadata": {
      "byteLimit": 2048000,
      "rowLimit": 10000
     },
     "inputWidgets": {},
     "nuid": "4b515c6c-c644-4f85-8ee8-79d8635e1bf9",
     "showTitle": false,
     "tableResultSettingsMap": {},
     "title": ""
    }
   },
   "outputs": [],
   "source": [
    "-- Payment method analysis\n",
    "CREATE OR REPLACE TEMPORARY VIEW payment_method_analysis AS\n",
    "SELECT \n",
    "    payment_method_category,\n",
    "    payment_method,\n",
    "    COUNT(*) as order_count,\n",
    "    ROUND(AVG(total_amount), 2) as avg_order_value,\n",
    "    COUNT(CASE WHEN order_status_category = 'Completed' THEN 1 END) as completed_count,\n",
    "    ROUND(COUNT(CASE WHEN order_status_category = 'Completed' THEN 1 END) * 100.0 / COUNT(*), 2) as completion_rate\n",
    "FROM orders_clean\n",
    "GROUP BY payment_method_category, payment_method\n",
    "ORDER BY order_count DESC;\n"
   ]
  },
  {
   "cell_type": "code",
   "execution_count": 0,
   "metadata": {
    "application/vnd.databricks.v1+cell": {
     "cellMetadata": {
      "byteLimit": 2048000,
      "rowLimit": 10000
     },
     "inputWidgets": {},
     "nuid": "a7bcddce-331d-4251-9c72-134a6417fd08",
     "showTitle": false,
     "tableResultSettingsMap": {},
     "title": ""
    }
   },
   "outputs": [],
   "source": [
    "-- Temporal patterns\n",
    "CREATE OR REPLACE TEMPORARY VIEW temporal_patterns AS\n",
    "SELECT \n",
    "    order_day_of_week,\n",
    "    COUNT(*) as order_count,\n",
    "    ROUND(AVG(total_amount), 2) as avg_order_value,\n",
    "    ROUND(SUM(total_amount), 2) as total_revenue\n",
    "FROM orders_clean\n",
    "GROUP BY order_day_of_week\n",
    "ORDER BY \n",
    "    CASE order_day_of_week\n",
    "        WHEN 'Monday' THEN 1\n",
    "        WHEN 'Tuesday' THEN 2\n",
    "        WHEN 'Wednesday' THEN 3\n",
    "        WHEN 'Thursday' THEN 4\n",
    "        WHEN 'Friday' THEN 5\n",
    "        WHEN 'Saturday' THEN 6\n",
    "        WHEN 'Sunday' THEN 7\n",
    "    END;\n"
   ]
  },
  {
   "cell_type": "code",
   "execution_count": 0,
   "metadata": {
    "application/vnd.databricks.v1+cell": {
     "cellMetadata": {
      "byteLimit": 2048000,
      "rowLimit": 10000
     },
     "inputWidgets": {},
     "nuid": "db75d8d2-9d97-429d-b428-09d8de3812d3",
     "showTitle": false,
     "tableResultSettingsMap": {},
     "title": ""
    }
   },
   "outputs": [],
   "source": [
    "-- Hourly patterns\n",
    "CREATE OR REPLACE TEMPORARY VIEW hourly_patterns AS\n",
    "SELECT \n",
    "    order_hour,\n",
    "    COUNT(*) as order_count,\n",
    "    ROUND(AVG(total_amount), 2) as avg_order_value\n",
    "FROM orders_clean\n",
    "GROUP BY order_hour\n",
    "ORDER BY order_hour;\n"
   ]
  },
  {
   "cell_type": "code",
   "execution_count": 0,
   "metadata": {
    "application/vnd.databricks.v1+cell": {
     "cellMetadata": {
      "byteLimit": 2048000,
      "rowLimit": 10000
     },
     "inputWidgets": {},
     "nuid": "ba630386-8e20-4750-b609-ad7a12e8f462",
     "showTitle": false,
     "tableResultSettingsMap": {},
     "title": ""
    }
   },
   "outputs": [],
   "source": [
    "-- Monthly trends\n",
    "CREATE OR REPLACE TEMPORARY VIEW monthly_trends AS\n",
    "SELECT \n",
    "    order_year,\n",
    "    order_month,\n",
    "    COUNT(*) as order_count,\n",
    "    ROUND(AVG(total_amount), 2) as avg_order_value,\n",
    "    ROUND(SUM(total_amount), 2) as total_revenue,\n",
    "    COUNT(DISTINCT customer_id) as unique_customers\n",
    "FROM orders_clean\n",
    "GROUP BY order_year, order_month\n",
    "ORDER BY order_year, order_month;\n"
   ]
  },
  {
   "cell_type": "code",
   "execution_count": 0,
   "metadata": {
    "application/vnd.databricks.v1+cell": {
     "cellMetadata": {
      "byteLimit": 2048000,
      "rowLimit": 10000
     },
     "inputWidgets": {},
     "nuid": "6886ef14-682f-43a6-a52e-98d95eb4c851",
     "showTitle": false,
     "tableResultSettingsMap": {},
     "title": ""
    }
   },
   "outputs": [],
   "source": [
    "-- Display analytics\n",
    "SELECT 'Order Quality Metrics' as metric_type;\n",
    "SELECT * FROM order_quality_metrics;\n",
    "\n",
    "SELECT 'Payment Method Analysis' as metric_type;\n",
    "SELECT * FROM payment_method_analysis;\n",
    "\n",
    "SELECT 'Day of Week Patterns' as metric_type;\n",
    "SELECT * FROM temporal_patterns;\n",
    "\n",
    "SELECT 'Hourly Patterns (Top 10)' as metric_type;\n",
    "SELECT * FROM hourly_patterns ORDER BY order_count DESC LIMIT 10;\n",
    "\n",
    "SELECT 'Monthly Trends' as metric_type;\n",
    "SELECT * FROM monthly_trends ORDER BY order_year DESC, order_month DESC LIMIT 12;\n"
   ]
  },
  {
   "cell_type": "code",
   "execution_count": 0,
   "metadata": {
    "application/vnd.databricks.v1+cell": {
     "cellMetadata": {
      "byteLimit": 2048000,
      "rowLimit": 10000
     },
     "inputWidgets": {},
     "nuid": "2788cde0-3706-45bf-89bb-5d6fdf7019fd",
     "showTitle": false,
     "tableResultSettingsMap": {},
     "title": ""
    },
    "vscode": {
     "languageId": "sql"
    }
   },
   "outputs": [],
   "source": [
    "-- 4. Transform Order Items (Large transaction table)\n",
    "SELECT 'Transforming Order Items...' as step, CURRENT_TIMESTAMP() as timestamp;\n",
    "\n",
    "\n",
    "CREATE OR REPLACE TABLE order_items_clean\n",
    "SELECT \n",
    "    oi.order_item_id,\n",
    "    oi.order_id,\n",
    "    oi.product_id,\n",
    "    TRIM(p.product_name) as product_name,\n",
    "    TRIM(c.category_name) as category_name,\n",
    "    TRIM(p.brand) as brand,\n",
    "    oi.quantity,\n",
    "    oi.unit_price,\n",
    "    oi.discount_amount,\n",
    "    oi.total_amount,\n",
    "    p.cost as unit_cost,\n",
    "    ROUND(oi.total_amount - (p.cost * oi.quantity), 2) as item_profit,\n",
    "    CASE \n",
    "        WHEN oi.total_amount > 0 \n",
    "        THEN ROUND(((oi.total_amount - (p.cost * oi.quantity)) / oi.total_amount) * 100, 2)\n",
    "        ELSE 0\n",
    "    END as item_margin,\n",
    "    CASE WHEN COALESCE(oi.discount_amount, 0) > 0 THEN TRUE ELSE FALSE END as is_discounted,\n",
    "    CASE \n",
    "        WHEN oi.quantity = 1 THEN 'Single'\n",
    "        WHEN oi.quantity <= 3 THEN 'Small'\n",
    "        WHEN oi.quantity <= 10 THEN 'Medium'\n",
    "        ELSE 'Bulk'\n",
    "    END as quantity_tier,\n",
    "    oi.created_at,\n",
    "    CURRENT_TIMESTAMP() as processing_timestamp\n",
    "FROM apjtechup.bronze.order_items_raw oi\n",
    "LEFT JOIN apjtechup.bronze.products_raw p ON oi.product_id = p.product_id\n",
    "LEFT JOIN apjtechup.bronze.categories_raw c ON p.category_id = c.category_id\n",
    "WHERE oi.order_item_id IS NOT NULL\n",
    "  AND oi.order_id IS NOT NULL\n",
    "  AND oi.product_id IS NOT NULL\n",
    "  AND oi.quantity > 0\n",
    "  AND oi.unit_price >= 0;\n"
   ]
  },
  {
   "cell_type": "code",
   "execution_count": 0,
   "metadata": {
    "application/vnd.databricks.v1+cell": {
     "cellMetadata": {
      "byteLimit": 2048000,
      "rowLimit": 10000
     },
     "inputWidgets": {},
     "nuid": "7fe6f1e1-7c8f-48cb-a45f-2251f97079d4",
     "showTitle": false,
     "tableResultSettingsMap": {},
     "title": ""
    },
    "vscode": {
     "languageId": "sql"
    }
   },
   "outputs": [],
   "source": [
    "-- 5. Transform Inventory\n",
    "SELECT 'Transforming Inventory...' as step, CURRENT_TIMESTAMP() as timestamp;\n",
    "\n",
    "CREATE OR REPLACE TABLE inventory_clean\n",
    "SELECT \n",
    "    i.inventory_id,\n",
    "    i.product_id,\n",
    "    TRIM(p.product_name) as product_name,\n",
    "    TRIM(c.category_name) as category_name,\n",
    "    i.warehouse_id,\n",
    "    CASE \n",
    "        WHEN i.warehouse_id <= 5 THEN 'East'\n",
    "        WHEN i.warehouse_id <= 10 THEN 'Central'\n",
    "        WHEN i.warehouse_id <= 15 THEN 'West'\n",
    "        ELSE 'International'\n",
    "    END as warehouse_region,\n",
    "    i.quantity_on_hand,\n",
    "    i.quantity_reserved,\n",
    "    i.quantity_available,\n",
    "    i.reorder_level,\n",
    "    CASE \n",
    "        WHEN i.quantity_available <= 0 THEN 'Out of Stock'\n",
    "        WHEN i.quantity_available <= i.reorder_level THEN 'Low Stock'\n",
    "        WHEN i.quantity_available <= i.reorder_level * 2 THEN 'Normal Stock'\n",
    "        ELSE 'High Stock'\n",
    "    END as stock_status,\n",
    "    CASE \n",
    "        WHEN p.cost > 0 AND i.quantity_available > 0\n",
    "        THEN ROUND(i.quantity_available / (p.cost * 30), 1) -- Rough days of supply estimate\n",
    "        ELSE 0\n",
    "    END as days_of_supply,\n",
    "    CASE \n",
    "        WHEN i.quantity_available <= i.reorder_level * 0.5 THEN 'Fast Moving'\n",
    "        WHEN i.quantity_available <= i.reorder_level * 2 THEN 'Normal Moving'\n",
    "        ELSE 'Slow Moving'\n",
    "    END as turnover_category,\n",
    "    CASE WHEN i.quantity_available <= i.reorder_level THEN TRUE ELSE FALSE END as needs_reorder,\n",
    "    CASE WHEN i.quantity_available >= i.reorder_level * 5 THEN TRUE ELSE FALSE END as overstocked,\n",
    "    i.last_updated,\n",
    "    i.created_at,\n",
    "    CURRENT_TIMESTAMP() as processing_timestamp\n",
    "FROM apjtechup.bronze.inventory_raw i\n",
    "LEFT JOIN apjtechup.bronze.products_raw p ON i.product_id = p.product_id\n",
    "LEFT JOIN apjtechup.bronze.categories_raw c ON p.category_id = c.category_id\n",
    "WHERE i.inventory_id IS NOT NULL\n",
    "  AND i.product_id IS NOT NULL\n",
    "  AND i.quantity_on_hand >= 0;\n"
   ]
  },
  {
   "cell_type": "code",
   "execution_count": 0,
   "metadata": {
    "application/vnd.databricks.v1+cell": {
     "cellMetadata": {
      "byteLimit": 2048000,
      "rowLimit": 10000
     },
     "inputWidgets": {},
     "nuid": "eff3b2a8-68c2-4c95-a477-6b73ee0bc4e1",
     "showTitle": false,
     "tableResultSettingsMap": {},
     "title": ""
    },
    "vscode": {
     "languageId": "sql"
    }
   },
   "outputs": [],
   "source": [
    "-- 6. Transform Reviews\n",
    "SELECT 'Transforming Reviews...' as step, CURRENT_TIMESTAMP() as timestamp;\n",
    "\n",
    "CREATE OR REPLACE TABLE reviews_clean\n",
    "SELECT \n",
    "    r.review_id,\n",
    "    r.product_id,\n",
    "    TRIM(p.product_name) as product_name,\n",
    "    TRIM(c.category_name) as category_name,\n",
    "    r.customer_id,\n",
    "    r.rating,\n",
    "    CASE \n",
    "        WHEN r.rating >= 4 THEN 'Positive'\n",
    "        WHEN r.rating >= 3 THEN 'Neutral'\n",
    "        ELSE 'Negative'\n",
    "    END as rating_category,\n",
    "    r.review_text,\n",
    "    LENGTH(COALESCE(r.review_text, '')) as review_text_length,\n",
    "    -- Simple sentiment scoring based on rating\n",
    "    CASE \n",
    "        WHEN r.rating = 5 THEN 1.0\n",
    "        WHEN r.rating = 4 THEN 0.5\n",
    "        WHEN r.rating = 3 THEN 0.0\n",
    "        WHEN r.rating = 2 THEN -0.5\n",
    "        WHEN r.rating = 1 THEN -1.0\n",
    "        ELSE 0.0\n",
    "    END as sentiment_score,\n",
    "    CASE \n",
    "        WHEN r.rating >= 4 THEN 'Positive'\n",
    "        WHEN r.rating >= 3 THEN 'Neutral'\n",
    "        ELSE 'Negative'\n",
    "    END as sentiment_category,\n",
    "    r.review_date,\n",
    "    YEAR(r.review_date) as review_year,\n",
    "    MONTH(r.review_date) as review_month,\n",
    "    r.verified_purchase,\n",
    "    r.helpful_votes,\n",
    "    CASE \n",
    "        WHEN r.helpful_votes >= 20 THEN 'Very Helpful'\n",
    "        WHEN r.helpful_votes >= 5 THEN 'Helpful'\n",
    "        WHEN r.helpful_votes >= 1 THEN 'Somewhat Helpful'\n",
    "        ELSE 'Not Helpful'\n",
    "    END as helpfulness_tier,\n",
    "    DATEDIFF(r.review_date, '2023-01-01') as days_since_purchase, -- Placeholder\n",
    "    CASE \n",
    "        WHEN DATEDIFF(CURRENT_DATE(), r.review_date) <= 30 THEN 'Recent'\n",
    "        WHEN DATEDIFF(CURRENT_DATE(), r.review_date) <= 90 THEN 'Moderate'\n",
    "        ELSE 'Old'\n",
    "    END as review_recency,\n",
    "    r.created_at,\n",
    "    CURRENT_TIMESTAMP() as processing_timestamp\n",
    "FROM apjtechup.bronze.reviews_raw r\n",
    "LEFT JOIN apjtechup.bronze.products_raw p ON r.product_id = p.product_id\n",
    "LEFT JOIN apjtechup.bronze.categories_raw c ON p.category_id = c.category_id\n",
    "WHERE r.review_id IS NOT NULL\n",
    "  AND r.product_id IS NOT NULL\n",
    "  AND r.rating BETWEEN 1 AND 5;\n"
   ]
  },
  {
   "cell_type": "code",
   "execution_count": 0,
   "metadata": {
    "application/vnd.databricks.v1+cell": {
     "cellMetadata": {
      "byteLimit": 2048000,
      "rowLimit": 10000
     },
     "inputWidgets": {},
     "nuid": "9cb26922-7c76-430b-89f9-7bbe43354c4b",
     "showTitle": false,
     "tableResultSettingsMap": {},
     "title": ""
    },
    "vscode": {
     "languageId": "sql"
    }
   },
   "outputs": [],
   "source": [
    "-- 7. Transform Web Events\n",
    "SELECT 'Transforming Web Events...' as step, CURRENT_TIMESTAMP() as timestamp;\n",
    "\n",
    "CREATE OR REPLACE TABLE web_events_clean\n",
    "SELECT \n",
    "    we.event_id,\n",
    "    we.session_id,\n",
    "    we.customer_id,\n",
    "    LOWER(TRIM(we.event_type)) as event_type,\n",
    "    CASE \n",
    "        WHEN LOWER(TRIM(we.event_type)) IN ('page_view', 'product_view') THEN 'Browsing'\n",
    "        WHEN LOWER(TRIM(we.event_type)) IN ('add_to_cart', 'remove_from_cart') THEN 'Cart Activity'\n",
    "        WHEN LOWER(TRIM(we.event_type)) IN ('checkout_start', 'purchase') THEN 'Purchase'\n",
    "        WHEN LOWER(TRIM(we.event_type)) IN ('search', 'filter') THEN 'Search'\n",
    "        ELSE 'Other'\n",
    "    END as event_category,\n",
    "    we.page_url,\n",
    "    CASE \n",
    "        WHEN we.page_url LIKE '%/product%' THEN 'Product Page'\n",
    "        WHEN we.page_url LIKE '%/category%' THEN 'Category Page'\n",
    "        WHEN we.page_url LIKE '%/cart%' THEN 'Cart Page'\n",
    "        WHEN we.page_url LIKE '%/checkout%' THEN 'Checkout Page'\n",
    "        WHEN we.page_url LIKE '%/search%' THEN 'Search Page'\n",
    "        WHEN we.page_url = '/home' THEN 'Home Page'\n",
    "        ELSE 'Other Page'\n",
    "    END as page_category,\n",
    "    we.product_id,\n",
    "    TRIM(c.category_name) as product_category,\n",
    "    we.timestamp,\n",
    "    DATE(we.timestamp) as event_date,\n",
    "    HOUR(we.timestamp) as event_hour,\n",
    "    CASE DAYOFWEEK(we.timestamp)\n",
    "        WHEN 1 THEN 'Sunday'\n",
    "        WHEN 2 THEN 'Monday'\n",
    "        WHEN 3 THEN 'Tuesday'\n",
    "        WHEN 4 THEN 'Wednesday'\n",
    "        WHEN 5 THEN 'Thursday'\n",
    "        WHEN 6 THEN 'Friday'\n",
    "        WHEN 7 THEN 'Saturday'\n",
    "    END as event_day_of_week,\n",
    "    we.ip_address,\n",
    "    we.user_agent,\n",
    "    CASE \n",
    "        WHEN LOWER(we.user_agent) LIKE '%mobile%' OR LOWER(we.user_agent) LIKE '%android%' OR LOWER(we.user_agent) LIKE '%iphone%' THEN 'Mobile'\n",
    "        WHEN LOWER(we.user_agent) LIKE '%tablet%' OR LOWER(we.user_agent) LIKE '%ipad%' THEN 'Tablet'\n",
    "        ELSE 'Desktop'\n",
    "    END as device_type,\n",
    "    CASE \n",
    "        WHEN LOWER(we.user_agent) LIKE '%chrome%' THEN 'Chrome'\n",
    "        WHEN LOWER(we.user_agent) LIKE '%firefox%' THEN 'Firefox'\n",
    "        WHEN LOWER(we.user_agent) LIKE '%safari%' THEN 'Safari'\n",
    "        WHEN LOWER(we.user_agent) LIKE '%edge%' THEN 'Edge'\n",
    "        ELSE 'Other'\n",
    "    END as browser,\n",
    "    CASE \n",
    "        WHEN LOWER(we.user_agent) LIKE '%windows%' THEN 'Windows'\n",
    "        WHEN LOWER(we.user_agent) LIKE '%mac%' THEN 'MacOS'\n",
    "        WHEN LOWER(we.user_agent) LIKE '%linux%' THEN 'Linux'\n",
    "        WHEN LOWER(we.user_agent) LIKE '%android%' THEN 'Android'\n",
    "        WHEN LOWER(we.user_agent) LIKE '%ios%' THEN 'iOS'\n",
    "        ELSE 'Other'\n",
    "    END as operating_system,\n",
    "    we.referrer,\n",
    "    CASE \n",
    "        WHEN we.referrer IS NULL THEN 'Direct'\n",
    "        WHEN LOWER(we.referrer) LIKE '%google%' THEN 'Google'\n",
    "        WHEN LOWER(we.referrer) LIKE '%facebook%' THEN 'Facebook'\n",
    "        WHEN LOWER(we.referrer) LIKE '%twitter%' THEN 'Twitter'\n",
    "        WHEN LOWER(we.referrer) LIKE '%instagram%' THEN 'Instagram'\n",
    "        ELSE 'Other Referrer'\n",
    "    END as referrer_category,\n",
    "    CASE \n",
    "        WHEN LOWER(we.user_agent) LIKE '%mobile%' OR LOWER(we.user_agent) LIKE '%android%' OR LOWER(we.user_agent) LIKE '%iphone%' THEN TRUE\n",
    "        ELSE FALSE\n",
    "    END as is_mobile,\n",
    "    'Unknown' as session_duration_bucket, -- Would need session analysis for this\n",
    "    we.created_at,\n",
    "    CURRENT_TIMESTAMP() as processing_timestamp\n",
    "FROM apjtechup.bronze.web_events_raw we\n",
    "LEFT JOIN apjtechup.bronze.products_raw p ON we.product_id = p.product_id\n",
    "LEFT JOIN apjtechup.bronze.categories_raw c ON p.category_id = c.category_id\n",
    "WHERE we.event_id IS NOT NULL\n",
    "  AND we.timestamp IS NOT NULL;\n"
   ]
  },
  {
   "cell_type": "code",
   "execution_count": 0,
   "metadata": {
    "application/vnd.databricks.v1+cell": {
     "cellMetadata": {
      "byteLimit": 2048000,
      "rowLimit": 10000
     },
     "inputWidgets": {},
     "nuid": "80b65f0e-4860-4135-b525-ffaee425f753",
     "showTitle": false,
     "tableResultSettingsMap": {},
     "title": ""
    },
    "vscode": {
     "languageId": "sql"
    }
   },
   "outputs": [],
   "source": [
    "-- Final summary and optimization\n",
    "SELECT 'Optimizing all Silver tables...' as step, CURRENT_TIMESTAMP() as timestamp;\n",
    "\n",
    "OPTIMIZE customers_clean;\n",
    "OPTIMIZE products_clean;\n",
    "OPTIMIZE orders_clean;\n",
    "OPTIMIZE order_items_clean;\n",
    "OPTIMIZE inventory_clean;\n",
    "OPTIMIZE reviews_clean;\n",
    "OPTIMIZE web_events_clean;\n",
    "\n",
    "-- Update statistics\n",
    "ANALYZE TABLE customers_clean COMPUTE STATISTICS;\n",
    "ANALYZE TABLE products_clean COMPUTE STATISTICS;\n",
    "ANALYZE TABLE orders_clean COMPUTE STATISTICS;\n",
    "ANALYZE TABLE order_items_clean COMPUTE STATISTICS;\n",
    "ANALYZE TABLE inventory_clean COMPUTE STATISTICS;\n",
    "ANALYZE TABLE reviews_clean COMPUTE STATISTICS;\n",
    "ANALYZE TABLE web_events_clean COMPUTE STATISTICS;"
   ]
  }
 ],
 "metadata": {
  "application/vnd.databricks.v1+notebook": {
   "computePreferences": null,
   "dashboards": [],
   "environmentMetadata": null,
   "inputWidgetPreferences": null,
   "language": "sql",
   "notebookMetadata": {
    "pythonIndentUnit": 4
   },
   "notebookName": "00_run_all_bronze_to_silver",
   "widgets": {}
  },
  "language_info": {
   "name": "sql"
  }
 },
 "nbformat": 4,
 "nbformat_minor": 0
}
