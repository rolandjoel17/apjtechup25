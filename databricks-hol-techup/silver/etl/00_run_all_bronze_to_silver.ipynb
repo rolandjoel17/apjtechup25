{
 "cells": [
  {
   "cell_type": "markdown",
   "metadata": {
    "application/vnd.databricks.v1+cell": {
     "cellMetadata": {
      "byteLimit": 2048000,
      "rowLimit": 10000
     },
     "inputWidgets": {},
     "nuid": "a47e0e7c-df6e-4fc2-8272-3925b27d6bb4",
     "showTitle": false,
     "tableResultSettingsMap": {},
     "title": ""
    }
   },
   "source": [
    "# Master Bronze to Silver ELT Process\n",
    "\n",
    "This notebook orchestrates the entire Bronze to Silver data transformation process. It executes all the individual transformation notebooks in the correct order and handles additional tables not covered in the individual notebooks.\n",
    "\n",
    "The process includes:\n",
    "1. Customer data transformation\n",
    "2. Product data transformation\n",
    "3. Order data transformation\n",
    "4. Order items transformation\n",
    "5. Inventory transformation\n",
    "6. Reviews transformation\n",
    "7. Web events transformation\n",
    "\n",
    "Each step includes data quality checks and table optimization.\n"
   ]
  },
  {
   "cell_type": "code",
   "execution_count": 0,
   "metadata": {
    "application/vnd.databricks.v1+cell": {
     "cellMetadata": {
      "byteLimit": 2048000,
      "rowLimit": 10000
     },
     "inputWidgets": {},
     "nuid": "4e57c7fe-0740-4029-9660-f868348d9f49",
     "showTitle": false,
     "tableResultSettingsMap": {},
     "title": ""
    },
    "vscode": {
     "languageId": "sql"
    }
   },
   "outputs": [],
   "source": [
    "-- Log transformation start\n",
    "SELECT 'Starting Bronze to Silver ELT Process' as status, CURRENT_TIMESTAMP() as start_time;\n"
   ]
  },
  {
   "cell_type": "code",
   "execution_count": 0,
   "metadata": {
    "application/vnd.databricks.v1+cell": {
     "cellMetadata": {
      "byteLimit": 2048000,
      "rowLimit": 10000
     },
     "inputWidgets": {},
     "nuid": "1758eaab-981e-49be-9d0a-18e4d728a7c9",
     "showTitle": false,
     "tableResultSettingsMap": {},
     "title": ""
    },
    "vscode": {
     "languageId": "sql"
    }
   },
   "outputs": [],
   "source": [
    "-- 1. Transform Customers (Reference data first)\n",
    "SELECT 'Transforming Customers...' as step, CURRENT_TIMESTAMP() as timestamp;\n"
   ]
  },
  {
   "cell_type": "code",
   "execution_count": 0,
   "metadata": {
    "application/vnd.databricks.v1+cell": {
     "cellMetadata": {
      "byteLimit": 2048000,
      "rowLimit": 10000
     },
     "inputWidgets": {},
     "nuid": "60d39195-e956-4f61-b093-5e6310acfb2c",
     "showTitle": false,
     "tableResultSettingsMap": {},
     "title": ""
    },
    "vscode": {
     "languageId": "sql"
    }
   },
   "outputs": [],
   "source": [
    "%run ./01_bronze_to_silver_customers"
   ]
  },
  {
   "cell_type": "code",
   "execution_count": 0,
   "metadata": {
    "application/vnd.databricks.v1+cell": {
     "cellMetadata": {
      "byteLimit": 2048000,
      "rowLimit": 10000
     },
     "inputWidgets": {},
     "nuid": "09686389-3ac6-42ca-926b-b74986365952",
     "showTitle": false,
     "tableResultSettingsMap": {},
     "title": ""
    },
    "vscode": {
     "languageId": "sql"
    }
   },
   "outputs": [],
   "source": [
    "-- 2. Transform Products (Reference data)\n",
    "SELECT 'Transforming Products...' as step, CURRENT_TIMESTAMP() as timestamp;\n"
   ]
  },
  {
   "cell_type": "markdown",
   "metadata": {
    "application/vnd.databricks.v1+cell": {
     "cellMetadata": {
      "byteLimit": 2048000,
      "rowLimit": 10000
     },
     "inputWidgets": {},
     "nuid": "a3230e0a-09c6-488f-846f-d45c71dfd772",
     "showTitle": false,
     "tableResultSettingsMap": {},
     "title": ""
    }
   },
   "source": [
    "Run the products transformation notebook\n"
   ]
  },
  {
   "cell_type": "code",
   "execution_count": 0,
   "metadata": {
    "application/vnd.databricks.v1+cell": {
     "cellMetadata": {
      "byteLimit": 2048000,
      "rowLimit": 10000
     },
     "inputWidgets": {},
     "nuid": "8122c214-debb-48dd-b329-0d0b2f7716a3",
     "showTitle": false,
     "tableResultSettingsMap": {},
     "title": ""
    },
    "vscode": {
     "languageId": "sql"
    }
   },
   "outputs": [],
   "source": [
    "%run ./02_bronze_to_silver_products"
   ]
  },
  {
   "cell_type": "code",
   "execution_count": 0,
   "metadata": {
    "application/vnd.databricks.v1+cell": {
     "cellMetadata": {
      "byteLimit": 2048000,
      "rowLimit": 10000
     },
     "inputWidgets": {},
     "nuid": "8f39a8d3-c7e4-40f6-918e-dc14b94652ff",
     "showTitle": false,
     "tableResultSettingsMap": {},
     "title": ""
    },
    "vscode": {
     "languageId": "sql"
    }
   },
   "outputs": [],
   "source": [
    "-- 3. Transform Orders (Transaction data)\n",
    "SELECT 'Transforming Orders...' as step, CURRENT_TIMESTAMP() as timestamp;\n"
   ]
  },
  {
   "cell_type": "markdown",
   "metadata": {
    "application/vnd.databricks.v1+cell": {
     "cellMetadata": {
      "byteLimit": 2048000,
      "rowLimit": 10000
     },
     "inputWidgets": {},
     "nuid": "ce153403-f923-4ee3-98a0-26f5716bee37",
     "showTitle": false,
     "tableResultSettingsMap": {},
     "title": ""
    }
   },
   "source": [
    "Run the orders transformation notebook\n"
   ]
  },
  {
   "cell_type": "code",
   "execution_count": 0,
   "metadata": {
    "application/vnd.databricks.v1+cell": {
     "cellMetadata": {
      "byteLimit": 2048000,
      "rowLimit": 10000
     },
     "inputWidgets": {},
     "nuid": "3400ad56-e72c-4c7f-9967-bef178ded905",
     "showTitle": false,
     "tableResultSettingsMap": {},
     "title": ""
    },
    "vscode": {
     "languageId": "sql"
    }
   },
   "outputs": [],
   "source": [
    "%run ./03_bronze_to_silver_orders"
   ]
  },
  {
   "cell_type": "code",
   "execution_count": 0,
   "metadata": {
    "application/vnd.databricks.v1+cell": {
     "cellMetadata": {
      "byteLimit": 2048000,
      "rowLimit": 10000
     },
     "inputWidgets": {},
     "nuid": "2788cde0-3706-45bf-89bb-5d6fdf7019fd",
     "showTitle": false,
     "tableResultSettingsMap": {},
     "title": ""
    },
    "vscode": {
     "languageId": "sql"
    }
   },
   "outputs": [],
   "source": [
    "-- 4. Transform Order Items (Large transaction table)\n",
    "SELECT 'Transforming Order Items...' as step, CURRENT_TIMESTAMP() as timestamp;\n",
    "\n",
    "USE catalog apjtechup;\n",
    "use database silver;\n",
    "\n",
    "CREATE OR REPLACE TABLE order_items_clean\n",
    "SELECT \n",
    "    oi.order_item_id,\n",
    "    oi.order_id,\n",
    "    oi.product_id,\n",
    "    TRIM(p.product_name) as product_name,\n",
    "    TRIM(c.category_name) as category_name,\n",
    "    TRIM(p.brand) as brand,\n",
    "    oi.quantity,\n",
    "    oi.unit_price,\n",
    "    oi.discount_amount,\n",
    "    oi.total_amount,\n",
    "    p.cost as unit_cost,\n",
    "    ROUND(oi.total_amount - (p.cost * oi.quantity), 2) as item_profit,\n",
    "    CASE \n",
    "        WHEN oi.total_amount > 0 \n",
    "        THEN ROUND(((oi.total_amount - (p.cost * oi.quantity)) / oi.total_amount) * 100, 2)\n",
    "        ELSE 0\n",
    "    END as item_margin,\n",
    "    CASE WHEN COALESCE(oi.discount_amount, 0) > 0 THEN TRUE ELSE FALSE END as is_discounted,\n",
    "    CASE \n",
    "        WHEN oi.quantity = 1 THEN 'Single'\n",
    "        WHEN oi.quantity <= 3 THEN 'Small'\n",
    "        WHEN oi.quantity <= 10 THEN 'Medium'\n",
    "        ELSE 'Bulk'\n",
    "    END as quantity_tier,\n",
    "    oi.created_at,\n",
    "    CURRENT_TIMESTAMP() as processing_timestamp\n",
    "FROM apjtechup.bronze.order_items_raw oi\n",
    "LEFT JOIN apjtechup.bronze.products_raw p ON oi.product_id = p.product_id\n",
    "LEFT JOIN apjtechup.bronze.categories_raw c ON p.category_id = c.category_id\n",
    "WHERE oi.order_item_id IS NOT NULL\n",
    "  AND oi.order_id IS NOT NULL\n",
    "  AND oi.product_id IS NOT NULL\n",
    "  AND oi.quantity > 0\n",
    "  AND oi.unit_price >= 0;\n"
   ]
  },
  {
   "cell_type": "code",
   "execution_count": 0,
   "metadata": {
    "application/vnd.databricks.v1+cell": {
     "cellMetadata": {
      "byteLimit": 2048000,
      "rowLimit": 10000
     },
     "inputWidgets": {},
     "nuid": "7fe6f1e1-7c8f-48cb-a45f-2251f97079d4",
     "showTitle": false,
     "tableResultSettingsMap": {},
     "title": ""
    },
    "vscode": {
     "languageId": "sql"
    }
   },
   "outputs": [],
   "source": [
    "-- 5. Transform Inventory\n",
    "SELECT 'Transforming Inventory...' as step, CURRENT_TIMESTAMP() as timestamp;\n",
    "\n",
    "CREATE OR REPLACE TABLE inventory_clean\n",
    "SELECT \n",
    "    i.inventory_id,\n",
    "    i.product_id,\n",
    "    TRIM(p.product_name) as product_name,\n",
    "    TRIM(c.category_name) as category_name,\n",
    "    i.warehouse_id,\n",
    "    CASE \n",
    "        WHEN i.warehouse_id <= 5 THEN 'East'\n",
    "        WHEN i.warehouse_id <= 10 THEN 'Central'\n",
    "        WHEN i.warehouse_id <= 15 THEN 'West'\n",
    "        ELSE 'International'\n",
    "    END as warehouse_region,\n",
    "    i.quantity_on_hand,\n",
    "    i.quantity_reserved,\n",
    "    i.quantity_available,\n",
    "    i.reorder_level,\n",
    "    CASE \n",
    "        WHEN i.quantity_available <= 0 THEN 'Out of Stock'\n",
    "        WHEN i.quantity_available <= i.reorder_level THEN 'Low Stock'\n",
    "        WHEN i.quantity_available <= i.reorder_level * 2 THEN 'Normal Stock'\n",
    "        ELSE 'High Stock'\n",
    "    END as stock_status,\n",
    "    CASE \n",
    "        WHEN p.cost > 0 AND i.quantity_available > 0\n",
    "        THEN ROUND(i.quantity_available / (p.cost * 30), 1) -- Rough days of supply estimate\n",
    "        ELSE 0\n",
    "    END as days_of_supply,\n",
    "    CASE \n",
    "        WHEN i.quantity_available <= i.reorder_level * 0.5 THEN 'Fast Moving'\n",
    "        WHEN i.quantity_available <= i.reorder_level * 2 THEN 'Normal Moving'\n",
    "        ELSE 'Slow Moving'\n",
    "    END as turnover_category,\n",
    "    CASE WHEN i.quantity_available <= i.reorder_level THEN TRUE ELSE FALSE END as needs_reorder,\n",
    "    CASE WHEN i.quantity_available >= i.reorder_level * 5 THEN TRUE ELSE FALSE END as overstocked,\n",
    "    i.last_updated,\n",
    "    i.created_at,\n",
    "    CURRENT_TIMESTAMP() as processing_timestamp\n",
    "FROM apjtechup.bronze.inventory_raw i\n",
    "LEFT JOIN apjtechup.bronze.products_raw p ON i.product_id = p.product_id\n",
    "LEFT JOIN apjtechup.bronze.categories_raw c ON p.category_id = c.category_id\n",
    "WHERE i.inventory_id IS NOT NULL\n",
    "  AND i.product_id IS NOT NULL\n",
    "  AND i.quantity_on_hand >= 0;\n"
   ]
  },
  {
   "cell_type": "code",
   "execution_count": 0,
   "metadata": {
    "application/vnd.databricks.v1+cell": {
     "cellMetadata": {
      "byteLimit": 2048000,
      "rowLimit": 10000
     },
     "inputWidgets": {},
     "nuid": "eff3b2a8-68c2-4c95-a477-6b73ee0bc4e1",
     "showTitle": false,
     "tableResultSettingsMap": {},
     "title": ""
    },
    "vscode": {
     "languageId": "sql"
    }
   },
   "outputs": [],
   "source": [
    "-- 6. Transform Reviews\n",
    "SELECT 'Transforming Reviews...' as step, CURRENT_TIMESTAMP() as timestamp;\n",
    "\n",
    "CREATE OR REPLACE TABLE reviews_clean\n",
    "SELECT \n",
    "    r.review_id,\n",
    "    r.product_id,\n",
    "    TRIM(p.product_name) as product_name,\n",
    "    TRIM(c.category_name) as category_name,\n",
    "    r.customer_id,\n",
    "    r.rating,\n",
    "    CASE \n",
    "        WHEN r.rating >= 4 THEN 'Positive'\n",
    "        WHEN r.rating >= 3 THEN 'Neutral'\n",
    "        ELSE 'Negative'\n",
    "    END as rating_category,\n",
    "    r.review_text,\n",
    "    LENGTH(COALESCE(r.review_text, '')) as review_text_length,\n",
    "    -- Simple sentiment scoring based on rating\n",
    "    CASE \n",
    "        WHEN r.rating = 5 THEN 1.0\n",
    "        WHEN r.rating = 4 THEN 0.5\n",
    "        WHEN r.rating = 3 THEN 0.0\n",
    "        WHEN r.rating = 2 THEN -0.5\n",
    "        WHEN r.rating = 1 THEN -1.0\n",
    "        ELSE 0.0\n",
    "    END as sentiment_score,\n",
    "    CASE \n",
    "        WHEN r.rating >= 4 THEN 'Positive'\n",
    "        WHEN r.rating >= 3 THEN 'Neutral'\n",
    "        ELSE 'Negative'\n",
    "    END as sentiment_category,\n",
    "    r.review_date,\n",
    "    YEAR(r.review_date) as review_year,\n",
    "    MONTH(r.review_date) as review_month,\n",
    "    r.verified_purchase,\n",
    "    r.helpful_votes,\n",
    "    CASE \n",
    "        WHEN r.helpful_votes >= 20 THEN 'Very Helpful'\n",
    "        WHEN r.helpful_votes >= 5 THEN 'Helpful'\n",
    "        WHEN r.helpful_votes >= 1 THEN 'Somewhat Helpful'\n",
    "        ELSE 'Not Helpful'\n",
    "    END as helpfulness_tier,\n",
    "    DATEDIFF(r.review_date, '2023-01-01') as days_since_purchase, -- Placeholder\n",
    "    CASE \n",
    "        WHEN DATEDIFF(CURRENT_DATE(), r.review_date) <= 30 THEN 'Recent'\n",
    "        WHEN DATEDIFF(CURRENT_DATE(), r.review_date) <= 90 THEN 'Moderate'\n",
    "        ELSE 'Old'\n",
    "    END as review_recency,\n",
    "    r.created_at,\n",
    "    CURRENT_TIMESTAMP() as processing_timestamp\n",
    "FROM apjtechup.bronze.reviews_raw r\n",
    "LEFT JOIN apjtechup.bronze.products_raw p ON r.product_id = p.product_id\n",
    "LEFT JOIN apjtechup.bronze.categories_raw c ON p.category_id = c.category_id\n",
    "WHERE r.review_id IS NOT NULL\n",
    "  AND r.product_id IS NOT NULL\n",
    "  AND r.rating BETWEEN 1 AND 5;\n"
   ]
  },
  {
   "cell_type": "code",
   "execution_count": 0,
   "metadata": {
    "application/vnd.databricks.v1+cell": {
     "cellMetadata": {
      "byteLimit": 2048000,
      "rowLimit": 10000
     },
     "inputWidgets": {},
     "nuid": "9cb26922-7c76-430b-89f9-7bbe43354c4b",
     "showTitle": false,
     "tableResultSettingsMap": {},
     "title": ""
    },
    "vscode": {
     "languageId": "sql"
    }
   },
   "outputs": [],
   "source": [
    "-- 7. Transform Web Events\n",
    "SELECT 'Transforming Web Events...' as step, CURRENT_TIMESTAMP() as timestamp;\n",
    "\n",
    "CREATE OR REPLACE TABLE web_events_clean\n",
    "SELECT \n",
    "    we.event_id,\n",
    "    we.session_id,\n",
    "    we.customer_id,\n",
    "    LOWER(TRIM(we.event_type)) as event_type,\n",
    "    CASE \n",
    "        WHEN LOWER(TRIM(we.event_type)) IN ('page_view', 'product_view') THEN 'Browsing'\n",
    "        WHEN LOWER(TRIM(we.event_type)) IN ('add_to_cart', 'remove_from_cart') THEN 'Cart Activity'\n",
    "        WHEN LOWER(TRIM(we.event_type)) IN ('checkout_start', 'purchase') THEN 'Purchase'\n",
    "        WHEN LOWER(TRIM(we.event_type)) IN ('search', 'filter') THEN 'Search'\n",
    "        ELSE 'Other'\n",
    "    END as event_category,\n",
    "    we.page_url,\n",
    "    CASE \n",
    "        WHEN we.page_url LIKE '%/product%' THEN 'Product Page'\n",
    "        WHEN we.page_url LIKE '%/category%' THEN 'Category Page'\n",
    "        WHEN we.page_url LIKE '%/cart%' THEN 'Cart Page'\n",
    "        WHEN we.page_url LIKE '%/checkout%' THEN 'Checkout Page'\n",
    "        WHEN we.page_url LIKE '%/search%' THEN 'Search Page'\n",
    "        WHEN we.page_url = '/home' THEN 'Home Page'\n",
    "        ELSE 'Other Page'\n",
    "    END as page_category,\n",
    "    we.product_id,\n",
    "    TRIM(c.category_name) as product_category,\n",
    "    we.timestamp,\n",
    "    DATE(we.timestamp) as event_date,\n",
    "    HOUR(we.timestamp) as event_hour,\n",
    "    CASE DAYOFWEEK(we.timestamp)\n",
    "        WHEN 1 THEN 'Sunday'\n",
    "        WHEN 2 THEN 'Monday'\n",
    "        WHEN 3 THEN 'Tuesday'\n",
    "        WHEN 4 THEN 'Wednesday'\n",
    "        WHEN 5 THEN 'Thursday'\n",
    "        WHEN 6 THEN 'Friday'\n",
    "        WHEN 7 THEN 'Saturday'\n",
    "    END as event_day_of_week,\n",
    "    we.ip_address,\n",
    "    we.user_agent,\n",
    "    CASE \n",
    "        WHEN LOWER(we.user_agent) LIKE '%mobile%' OR LOWER(we.user_agent) LIKE '%android%' OR LOWER(we.user_agent) LIKE '%iphone%' THEN 'Mobile'\n",
    "        WHEN LOWER(we.user_agent) LIKE '%tablet%' OR LOWER(we.user_agent) LIKE '%ipad%' THEN 'Tablet'\n",
    "        ELSE 'Desktop'\n",
    "    END as device_type,\n",
    "    CASE \n",
    "        WHEN LOWER(we.user_agent) LIKE '%chrome%' THEN 'Chrome'\n",
    "        WHEN LOWER(we.user_agent) LIKE '%firefox%' THEN 'Firefox'\n",
    "        WHEN LOWER(we.user_agent) LIKE '%safari%' THEN 'Safari'\n",
    "        WHEN LOWER(we.user_agent) LIKE '%edge%' THEN 'Edge'\n",
    "        ELSE 'Other'\n",
    "    END as browser,\n",
    "    CASE \n",
    "        WHEN LOWER(we.user_agent) LIKE '%windows%' THEN 'Windows'\n",
    "        WHEN LOWER(we.user_agent) LIKE '%mac%' THEN 'MacOS'\n",
    "        WHEN LOWER(we.user_agent) LIKE '%linux%' THEN 'Linux'\n",
    "        WHEN LOWER(we.user_agent) LIKE '%android%' THEN 'Android'\n",
    "        WHEN LOWER(we.user_agent) LIKE '%ios%' THEN 'iOS'\n",
    "        ELSE 'Other'\n",
    "    END as operating_system,\n",
    "    we.referrer,\n",
    "    CASE \n",
    "        WHEN we.referrer IS NULL THEN 'Direct'\n",
    "        WHEN LOWER(we.referrer) LIKE '%google%' THEN 'Google'\n",
    "        WHEN LOWER(we.referrer) LIKE '%facebook%' THEN 'Facebook'\n",
    "        WHEN LOWER(we.referrer) LIKE '%twitter%' THEN 'Twitter'\n",
    "        WHEN LOWER(we.referrer) LIKE '%instagram%' THEN 'Instagram'\n",
    "        ELSE 'Other Referrer'\n",
    "    END as referrer_category,\n",
    "    CASE \n",
    "        WHEN LOWER(we.user_agent) LIKE '%mobile%' OR LOWER(we.user_agent) LIKE '%android%' OR LOWER(we.user_agent) LIKE '%iphone%' THEN TRUE\n",
    "        ELSE FALSE\n",
    "    END as is_mobile,\n",
    "    'Unknown' as session_duration_bucket, -- Would need session analysis for this\n",
    "    we.created_at,\n",
    "    CURRENT_TIMESTAMP() as processing_timestamp\n",
    "FROM apjtechup.bronze.web_events_raw we\n",
    "LEFT JOIN apjtechup.bronze.products_raw p ON we.product_id = p.product_id\n",
    "LEFT JOIN apjtechup.bronze.categories_raw c ON p.category_id = c.category_id\n",
    "WHERE we.event_id IS NOT NULL\n",
    "  AND we.timestamp IS NOT NULL;\n"
   ]
  },
  {
   "cell_type": "code",
   "execution_count": 0,
   "metadata": {
    "application/vnd.databricks.v1+cell": {
     "cellMetadata": {
      "byteLimit": 2048000,
      "rowLimit": 10000
     },
     "inputWidgets": {},
     "nuid": "80b65f0e-4860-4135-b525-ffaee425f753",
     "showTitle": false,
     "tableResultSettingsMap": {},
     "title": ""
    },
    "vscode": {
     "languageId": "sql"
    }
   },
   "outputs": [],
   "source": [
    "-- Final summary and optimization\n",
    "SELECT 'Optimizing all Silver tables...' as step, CURRENT_TIMESTAMP() as timestamp;\n",
    "\n",
    "OPTIMIZE customers_clean;\n",
    "OPTIMIZE products_clean;\n",
    "OPTIMIZE orders_clean;\n",
    "OPTIMIZE order_items_clean;\n",
    "OPTIMIZE inventory_clean;\n",
    "OPTIMIZE reviews_clean;\n",
    "OPTIMIZE web_events_clean;\n",
    "\n",
    "-- Update statistics\n",
    "ANALYZE TABLE customers_clean COMPUTE STATISTICS;\n",
    "ANALYZE TABLE products_clean COMPUTE STATISTICS;\n",
    "ANALYZE TABLE orders_clean COMPUTE STATISTICS;\n",
    "ANALYZE TABLE order_items_clean COMPUTE STATISTICS;\n",
    "ANALYZE TABLE inventory_clean COMPUTE STATISTICS;\n",
    "ANALYZE TABLE reviews_clean COMPUTE STATISTICS;\n",
    "ANALYZE TABLE web_events_clean COMPUTE STATISTICS;"
   ]
  },
  {
   "cell_type": "code",
   "execution_count": 0,
   "metadata": {
    "application/vnd.databricks.v1+cell": {
     "cellMetadata": {
      "byteLimit": 2048000,
      "rowLimit": 10000
     },
     "inputWidgets": {},
     "nuid": "99f77f30-9384-42fa-99aa-cf496ee9433f",
     "showTitle": false,
     "tableResultSettingsMap": {},
     "title": ""
    },
    "vscode": {
     "languageId": "sql"
    }
   },
   "outputs": [],
   "source": [
    "-- Final summary\n",
    "SELECT 'Bronze to Silver ELT Process Complete' as status, CURRENT_TIMESTAMP() as end_time;\n",
    "SELECT * FROM silver_table_summary ORDER BY record_count DESC;\n"
   ]
  }
 ],
 "metadata": {
  "application/vnd.databricks.v1+notebook": {
   "computePreferences": null,
   "dashboards": [],
   "environmentMetadata": null,
   "inputWidgetPreferences": null,
   "language": "sql",
   "notebookMetadata": {
    "pythonIndentUnit": 4
   },
   "notebookName": "00_run_all_bronze_to_silver",
   "widgets": {}
  },
  "language_info": {
   "name": "sql"
  }
 },
 "nbformat": 4,
 "nbformat_minor": 0
}
