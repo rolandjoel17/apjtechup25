{
 "cells": [
  {
   "cell_type": "markdown",
   "metadata": {
    "application/vnd.databricks.v1+cell": {
     "cellMetadata": {
      "byteLimit": 2048000,
      "rowLimit": 10000
     },
     "inputWidgets": {},
     "nuid": "02b9631e-aa08-4269-96c4-a0b568416a7f",
     "showTitle": false,
     "tableResultSettingsMap": {},
     "title": ""
    }
   },
   "source": [
    "# Bronze to Silver ELT: Customer Data Transformation\n",
    "\n",
    "This notebook cleans and enriches customer data from the bronze layer to create the silver layer customer tables. The transformation includes:\n",
    "\n",
    "- Data cleaning and standardization\n",
    "- Field enrichment and derivation\n",
    "- Data quality metrics calculation\n",
    "- Table optimization\n"
   ]
  },
  {
   "cell_type": "code",
   "execution_count": 0,
   "metadata": {
    "application/vnd.databricks.v1+cell": {
     "cellMetadata": {
      "byteLimit": 2048000,
      "rowLimit": 10000
     },
     "inputWidgets": {},
     "nuid": "e7603dc6-af08-47af-b96d-d65429cb70d9",
     "showTitle": false,
     "tableResultSettingsMap": {},
     "title": ""
    },
    "vscode": {
     "languageId": "sql"
    }
   },
   "outputs": [],
   "source": [
    "-- Set up the environment\n",
    "USE catalog apjtechup;\n",
    "use database silver;\n"
   ]
  },
  {
   "cell_type": "code",
   "execution_count": 0,
   "metadata": {
    "application/vnd.databricks.v1+cell": {
     "cellMetadata": {
      "byteLimit": 2048000,
      "rowLimit": 10000
     },
     "inputWidgets": {},
     "nuid": "ec5fb047-81b5-47f8-a0d4-5fd4143eacec",
     "showTitle": false,
     "tableResultSettingsMap": {},
     "title": ""
    },
    "vscode": {
     "languageId": "sql"
    }
   },
   "outputs": [],
   "source": [
    "-- Insert cleaned customer data into silver layer\n",
    "CREATE OR REPLACE TABLE customers_clean\n",
    "SELECT \n",
    "    c.customer_id,\n",
    "    TRIM(UPPER(c.first_name)) as first_name,\n",
    "    TRIM(UPPER(c.last_name)) as last_name,\n",
    "    CONCAT(TRIM(UPPER(c.first_name)), ' ', TRIM(UPPER(c.last_name))) as full_name,\n",
    "    LOWER(TRIM(c.email)) as email,\n",
    "    CASE \n",
    "        WHEN c.email LIKE '%@%' THEN SPLIT(LOWER(TRIM(c.email)), '@')[1]\n",
    "        ELSE NULL \n",
    "    END as email_domain,\n",
    "    c.phone,\n",
    "    -- Clean phone numbers (remove non-numeric characters)\n",
    "    REGEXP_REPLACE(c.phone, '[^0-9]', '') as phone_cleaned,\n",
    "    c.registration_date,\n",
    "    c.birth_date,\n",
    "    -- Calculate age\n",
    "    CASE \n",
    "        WHEN c.birth_date IS NOT NULL \n",
    "        THEN YEAR(CURRENT_DATE()) - YEAR(c.birth_date) - \n",
    "             CASE WHEN MONTH(CURRENT_DATE()) < MONTH(c.birth_date) \n",
    "                  OR (MONTH(CURRENT_DATE()) = MONTH(c.birth_date) AND DAY(CURRENT_DATE()) < DAY(c.birth_date))\n",
    "                  THEN 1 ELSE 0 END\n",
    "        ELSE NULL\n",
    "    END as age,\n",
    "    -- Age grouping\n",
    "    CASE \n",
    "        WHEN c.birth_date IS NULL THEN 'Unknown'\n",
    "        WHEN YEAR(CURRENT_DATE()) - YEAR(c.birth_date) < 25 THEN '18-24'\n",
    "        WHEN YEAR(CURRENT_DATE()) - YEAR(c.birth_date) < 35 THEN '25-34'\n",
    "        WHEN YEAR(CURRENT_DATE()) - YEAR(c.birth_date) < 45 THEN '35-44'\n",
    "        WHEN YEAR(CURRENT_DATE()) - YEAR(c.birth_date) < 55 THEN '45-54'\n",
    "        WHEN YEAR(CURRENT_DATE()) - YEAR(c.birth_date) < 65 THEN '55-64'\n",
    "        ELSE '65+'\n",
    "    END as age_group,\n",
    "    COALESCE(UPPER(c.gender), 'Unknown') as gender,\n",
    "    TRIM(c.address_line1) as address_line1,\n",
    "    TRIM(c.address_line2) as address_line2,\n",
    "    TRIM(UPPER(c.city)) as city,\n",
    "    TRIM(UPPER(c.state)) as state,\n",
    "    TRIM(UPPER(c.country)) as country,\n",
    "    c.postal_code,\n",
    "    YEAR(c.registration_date) as registration_year,\n",
    "    MONTH(c.registration_date) as registration_month,\n",
    "    DATEDIFF(CURRENT_DATE(), c.registration_date) as days_since_registration,\n",
    "    -- Customer tier based on registration tenure\n",
    "    CASE \n",
    "        WHEN DATEDIFF(CURRENT_DATE(), c.registration_date) >= 730 THEN 'Gold'\n",
    "        WHEN DATEDIFF(CURRENT_DATE(), c.registration_date) >= 365 THEN 'Silver'\n",
    "        WHEN DATEDIFF(CURRENT_DATE(), c.registration_date) >= 90 THEN 'Bronze'\n",
    "        ELSE 'New'\n",
    "    END as customer_tier,\n",
    "    TRIM(LOWER(c.source_system)) as source_system,\n",
    "    c.created_at,\n",
    "    CURRENT_TIMESTAMP() as updated_at\n",
    "FROM apjtechup.bronze.customers_raw c\n",
    "WHERE c.customer_id IS NOT NULL\n",
    "  AND c.email IS NOT NULL\n",
    "  AND c.email LIKE '%@%'  -- Basic email validation\n",
    "  AND LENGTH(TRIM(c.first_name)) > 0\n",
    "  AND LENGTH(TRIM(c.last_name)) > 0;\n"
   ]
  },
  {
   "cell_type": "code",
   "execution_count": 0,
   "metadata": {
    "application/vnd.databricks.v1+cell": {
     "cellMetadata": {
      "byteLimit": 2048000,
      "rowLimit": 10000
     },
     "inputWidgets": {},
     "nuid": "c95ff394-33f3-45ec-adaa-fb77c55defd8",
     "showTitle": false,
     "tableResultSettingsMap": {},
     "title": ""
    },
    "vscode": {
     "languageId": "sql"
    }
   },
   "outputs": [],
   "source": [
    "-- Add data quality metrics\n",
    "CREATE OR REPLACE TEMPORARY VIEW customer_quality_metrics AS\n",
    "SELECT \n",
    "    COUNT(*) as total_customers,\n",
    "    COUNT(CASE WHEN email_domain IS NOT NULL THEN 1 END) as valid_emails,\n",
    "    COUNT(CASE WHEN phone_cleaned IS NOT NULL AND LENGTH(phone_cleaned) >= 10 THEN 1 END) as valid_phones,\n",
    "    COUNT(CASE WHEN age IS NOT NULL THEN 1 END) as customers_with_age,\n",
    "    COUNT(CASE WHEN age_group != 'Unknown' THEN 1 END) as customers_with_age_group,\n",
    "    AVG(days_since_registration) as avg_days_since_registration,\n",
    "    COUNT(CASE WHEN customer_tier = 'Gold' THEN 1 END) as gold_customers,\n",
    "    COUNT(CASE WHEN customer_tier = 'Silver' THEN 1 END) as silver_customers,\n",
    "    COUNT(CASE WHEN customer_tier = 'Bronze' THEN 1 END) as bronze_customers,\n",
    "    COUNT(CASE WHEN customer_tier = 'New' THEN 1 END) as new_customers\n",
    "FROM customers_clean;\n"
   ]
  },
  {
   "cell_type": "code",
   "execution_count": 0,
   "metadata": {
    "application/vnd.databricks.v1+cell": {
     "cellMetadata": {
      "byteLimit": 2048000,
      "rowLimit": 10000
     },
     "inputWidgets": {},
     "nuid": "97504f5b-d3b8-420b-a2ef-a3cb10dcb716",
     "showTitle": false,
     "tableResultSettingsMap": {},
     "title": ""
    },
    "vscode": {
     "languageId": "sql"
    }
   },
   "outputs": [],
   "source": [
    "-- Display quality metrics\n",
    "SELECT * FROM customer_quality_metrics;\n"
   ]
  },
  {
   "cell_type": "code",
   "execution_count": 0,
   "metadata": {
    "application/vnd.databricks.v1+cell": {
     "cellMetadata": {
      "byteLimit": 2048000,
      "rowLimit": 10000
     },
     "inputWidgets": {},
     "nuid": "4d63a0a6-3fef-4e30-aae7-e03841998d6a",
     "showTitle": false,
     "tableResultSettingsMap": {},
     "title": ""
    },
    "vscode": {
     "languageId": "sql"
    }
   },
   "outputs": [],
   "source": [
    "-- Optimize table\n",
    "OPTIMIZE customers_clean;\n",
    "\n",
    "-- Update table statistics\n",
    "ANALYZE TABLE customers_clean COMPUTE STATISTICS;\n"
   ]
  }
 ],
 "metadata": {
  "application/vnd.databricks.v1+notebook": {
   "computePreferences": null,
   "dashboards": [],
   "environmentMetadata": null,
   "inputWidgetPreferences": null,
   "language": "sql",
   "notebookMetadata": {
    "pythonIndentUnit": 4
   },
   "notebookName": "01_bronze_to_silver_customers",
   "widgets": {}
  },
  "language_info": {
   "name": "sql"
  }
 },
 "nbformat": 4,
 "nbformat_minor": 0
}
