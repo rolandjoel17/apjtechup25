{
 "cells": [
  {
   "cell_type": "markdown",
   "metadata": {
    "application/vnd.databricks.v1+cell": {
     "cellMetadata": {},
     "inputWidgets": {},
     "nuid": "bd3a7c0a-160f-4d47-91c3-1a3a0ebf4977",
     "showTitle": false,
     "tableResultSettingsMap": {},
     "title": ""
    }
   },
   "source": [
    "# Bronze to Silver ELT: Order Data Transformation\n",
    "\n",
    "This notebook cleans and enriches order data from the bronze layer to create the silver layer order tables. The transformation includes:\n",
    "\n",
    "- Data cleaning and standardization\n",
    "- Temporal analysis (year, month, quarter, day of week)\n",
    "- Order status and payment categorization\n",
    "- Order value analysis\n",
    "- Discount analysis\n",
    "- Data quality metrics calculation\n",
    "- Table optimization\n"
   ]
  },
  {
   "cell_type": "code",
   "execution_count": 0,
   "metadata": {
    "application/vnd.databricks.v1+cell": {
     "cellMetadata": {},
     "inputWidgets": {},
     "nuid": "4a8a0abe-4b18-418e-b980-beb1553c2888",
     "showTitle": false,
     "tableResultSettingsMap": {},
     "title": ""
    },
    "vscode": {
     "languageId": "sql"
    }
   },
   "outputs": [],
   "source": [
    "-- Set up the environment\n",
    "USE catalog apjtechup;\n",
    "use database silver;\n"
   ]
  },
  {
   "cell_type": "code",
   "execution_count": 0,
   "metadata": {
    "application/vnd.databricks.v1+cell": {
     "cellMetadata": {},
     "inputWidgets": {},
     "nuid": "02f8e110-e097-4b9c-ac0c-c494c0559c71",
     "showTitle": false,
     "tableResultSettingsMap": {},
     "title": ""
    },
    "vscode": {
     "languageId": "sql"
    }
   },
   "outputs": [],
   "source": [
    "-- Insert cleaned order data into silver layer\n",
    "CREATE OR REPLACE TABLE orders_clean\n",
    "SELECT \n",
    "    o.order_id,\n",
    "    o.customer_id,\n",
    "    o.order_date,\n",
    "    DATE(o.order_date) as order_date_only,\n",
    "    YEAR(o.order_date) as order_year,\n",
    "    MONTH(o.order_date) as order_month,\n",
    "    QUARTER(o.order_date) as order_quarter,\n",
    "    CASE DAYOFWEEK(o.order_date)\n",
    "        WHEN 1 THEN 'Sunday'\n",
    "        WHEN 2 THEN 'Monday'\n",
    "        WHEN 3 THEN 'Tuesday'\n",
    "        WHEN 4 THEN 'Wednesday'\n",
    "        WHEN 5 THEN 'Thursday'\n",
    "        WHEN 6 THEN 'Friday'\n",
    "        WHEN 7 THEN 'Saturday'\n",
    "    END as order_day_of_week,\n",
    "    HOUR(o.order_date) as order_hour,\n",
    "    UPPER(TRIM(o.order_status)) as order_status,\n",
    "    -- Order status categorization\n",
    "    CASE \n",
    "        WHEN UPPER(TRIM(o.order_status)) IN ('PENDING', 'PROCESSING') THEN 'In Progress'\n",
    "        WHEN UPPER(TRIM(o.order_status)) IN ('SHIPPED', 'DELIVERED') THEN 'Completed'\n",
    "        WHEN UPPER(TRIM(o.order_status)) IN ('CANCELLED', 'RETURNED') THEN 'Cancelled/Returned'\n",
    "        ELSE 'Other'\n",
    "    END as order_status_category,\n",
    "    LOWER(TRIM(o.payment_method)) as payment_method,\n",
    "    -- Payment method categorization\n",
    "    CASE \n",
    "        WHEN LOWER(TRIM(o.payment_method)) IN ('credit_card', 'debit_card') THEN 'Card Payment'\n",
    "        WHEN LOWER(TRIM(o.payment_method)) IN ('paypal', 'apple_pay', 'google_pay') THEN 'Digital Wallet'\n",
    "        ELSE 'Other'\n",
    "    END as payment_method_category,\n",
    "    UPPER(TRIM(o.payment_status)) as payment_status,\n",
    "    TRIM(o.shipping_address) as shipping_address,\n",
    "    TRIM(o.billing_address) as billing_address,\n",
    "    -- Check if billing and shipping addresses are the same\n",
    "    CASE \n",
    "        WHEN TRIM(o.shipping_address) = TRIM(o.billing_address) THEN TRUE\n",
    "        ELSE FALSE\n",
    "    END as same_billing_shipping,\n",
    "    o.total_amount,\n",
    "    o.tax_amount,\n",
    "    o.shipping_cost,\n",
    "    o.discount_amount,\n",
    "    -- Calculate net amount (total - tax for comparison purposes)\n",
    "    ROUND(o.total_amount - COALESCE(o.tax_amount, 0), 2) as net_amount,\n",
    "    -- Order value tier\n",
    "    CASE \n",
    "        WHEN o.total_amount < 50 THEN 'Small'\n",
    "        WHEN o.total_amount < 150 THEN 'Medium'\n",
    "        WHEN o.total_amount < 500 THEN 'Large'\n",
    "        ELSE 'Enterprise'\n",
    "    END as order_value_tier,\n",
    "    CASE WHEN COALESCE(o.discount_amount, 0) > 0 THEN TRUE ELSE FALSE END as has_discount,\n",
    "    -- Calculate discount percentage\n",
    "    CASE \n",
    "        WHEN o.total_amount > 0 AND COALESCE(o.discount_amount, 0) > 0 \n",
    "        THEN ROUND((o.discount_amount / o.total_amount) * 100, 2)\n",
    "        ELSE 0\n",
    "    END as discount_percentage,\n",
    "    o.created_at,\n",
    "    o.updated_at,\n",
    "    CURRENT_TIMESTAMP() as processing_timestamp\n",
    "FROM apjtechup.bronze.orders_raw o\n",
    "WHERE o.order_id IS NOT NULL\n",
    "  AND o.customer_id IS NOT NULL\n",
    "  AND o.order_date IS NOT NULL\n",
    "  AND o.total_amount >= 0;\n"
   ]
  },
  {
   "cell_type": "code",
   "execution_count": 0,
   "metadata": {
    "application/vnd.databricks.v1+cell": {
     "cellMetadata": {},
     "inputWidgets": {},
     "nuid": "c5fae954-adee-4be7-a8b7-679cc1fe233e",
     "showTitle": false,
     "tableResultSettingsMap": {},
     "title": ""
    },
    "vscode": {
     "languageId": "sql"
    }
   },
   "outputs": [],
   "source": [
    "-- Create temporary views for order analytics\n",
    "CREATE OR REPLACE TEMPORARY VIEW order_quality_metrics AS\n",
    "SELECT \n",
    "    COUNT(*) as total_orders,\n",
    "    COUNT(CASE WHEN order_status_category = 'Completed' THEN 1 END) as completed_orders,\n",
    "    COUNT(CASE WHEN order_status_category = 'In Progress' THEN 1 END) as in_progress_orders,\n",
    "    COUNT(CASE WHEN order_status_category = 'Cancelled/Returned' THEN 1 END) as cancelled_orders,\n",
    "    ROUND(AVG(total_amount), 2) as avg_order_value,\n",
    "    ROUND(SUM(total_amount), 2) as total_revenue,\n",
    "    COUNT(CASE WHEN has_discount = TRUE THEN 1 END) as orders_with_discount,\n",
    "    ROUND(AVG(CASE WHEN has_discount = TRUE THEN discount_percentage END), 2) as avg_discount_percentage,\n",
    "    COUNT(CASE WHEN order_value_tier = 'Small' THEN 1 END) as small_orders,\n",
    "    COUNT(CASE WHEN order_value_tier = 'Medium' THEN 1 END) as medium_orders,\n",
    "    COUNT(CASE WHEN order_value_tier = 'Large' THEN 1 END) as large_orders,\n",
    "    COUNT(CASE WHEN order_value_tier = 'Enterprise' THEN 1 END) as enterprise_orders\n",
    "FROM orders_clean;\n"
   ]
  },
  {
   "cell_type": "code",
   "execution_count": 0,
   "metadata": {
    "application/vnd.databricks.v1+cell": {
     "cellMetadata": {},
     "inputWidgets": {},
     "nuid": "9b6c4561-2043-4e79-ad94-9db440e5ba6d",
     "showTitle": false,
     "tableResultSettingsMap": {},
     "title": ""
    },
    "vscode": {
     "languageId": "sql"
    }
   },
   "outputs": [],
   "source": [
    "-- Payment method analysis\n",
    "CREATE OR REPLACE TEMPORARY VIEW payment_method_analysis AS\n",
    "SELECT \n",
    "    payment_method_category,\n",
    "    payment_method,\n",
    "    COUNT(*) as order_count,\n",
    "    ROUND(AVG(total_amount), 2) as avg_order_value,\n",
    "    COUNT(CASE WHEN order_status_category = 'Completed' THEN 1 END) as completed_count,\n",
    "    ROUND(COUNT(CASE WHEN order_status_category = 'Completed' THEN 1 END) * 100.0 / COUNT(*), 2) as completion_rate\n",
    "FROM orders_clean\n",
    "GROUP BY payment_method_category, payment_method\n",
    "ORDER BY order_count DESC;\n"
   ]
  },
  {
   "cell_type": "code",
   "execution_count": 0,
   "metadata": {
    "application/vnd.databricks.v1+cell": {
     "cellMetadata": {},
     "inputWidgets": {},
     "nuid": "302ae2bc-9ae2-4336-bbc6-368dc1a4e5ec",
     "showTitle": false,
     "tableResultSettingsMap": {},
     "title": ""
    },
    "vscode": {
     "languageId": "sql"
    }
   },
   "outputs": [],
   "source": [
    "-- Temporal patterns\n",
    "CREATE OR REPLACE TEMPORARY VIEW temporal_patterns AS\n",
    "SELECT \n",
    "    order_day_of_week,\n",
    "    COUNT(*) as order_count,\n",
    "    ROUND(AVG(total_amount), 2) as avg_order_value,\n",
    "    ROUND(SUM(total_amount), 2) as total_revenue\n",
    "FROM orders_clean\n",
    "GROUP BY order_day_of_week\n",
    "ORDER BY \n",
    "    CASE order_day_of_week\n",
    "        WHEN 'Monday' THEN 1\n",
    "        WHEN 'Tuesday' THEN 2\n",
    "        WHEN 'Wednesday' THEN 3\n",
    "        WHEN 'Thursday' THEN 4\n",
    "        WHEN 'Friday' THEN 5\n",
    "        WHEN 'Saturday' THEN 6\n",
    "        WHEN 'Sunday' THEN 7\n",
    "    END;\n"
   ]
  },
  {
   "cell_type": "code",
   "execution_count": 0,
   "metadata": {
    "application/vnd.databricks.v1+cell": {
     "cellMetadata": {},
     "inputWidgets": {},
     "nuid": "642e7ff8-8548-4b73-a0b6-e0bd034653e2",
     "showTitle": false,
     "tableResultSettingsMap": {},
     "title": ""
    },
    "vscode": {
     "languageId": "sql"
    }
   },
   "outputs": [],
   "source": [
    "-- Hourly patterns\n",
    "CREATE OR REPLACE TEMPORARY VIEW hourly_patterns AS\n",
    "SELECT \n",
    "    order_hour,\n",
    "    COUNT(*) as order_count,\n",
    "    ROUND(AVG(total_amount), 2) as avg_order_value\n",
    "FROM orders_clean\n",
    "GROUP BY order_hour\n",
    "ORDER BY order_hour;\n"
   ]
  },
  {
   "cell_type": "code",
   "execution_count": 0,
   "metadata": {
    "application/vnd.databricks.v1+cell": {
     "cellMetadata": {},
     "inputWidgets": {},
     "nuid": "e38f8522-81c6-4753-bcbf-f1e2163630b2",
     "showTitle": false,
     "tableResultSettingsMap": {},
     "title": ""
    },
    "vscode": {
     "languageId": "sql"
    }
   },
   "outputs": [],
   "source": [
    "-- Monthly trends\n",
    "CREATE OR REPLACE TEMPORARY VIEW monthly_trends AS\n",
    "SELECT \n",
    "    order_year,\n",
    "    order_month,\n",
    "    COUNT(*) as order_count,\n",
    "    ROUND(AVG(total_amount), 2) as avg_order_value,\n",
    "    ROUND(SUM(total_amount), 2) as total_revenue,\n",
    "    COUNT(DISTINCT customer_id) as unique_customers\n",
    "FROM orders_clean\n",
    "GROUP BY order_year, order_month\n",
    "ORDER BY order_year, order_month;\n"
   ]
  },
  {
   "cell_type": "code",
   "execution_count": 0,
   "metadata": {
    "application/vnd.databricks.v1+cell": {
     "cellMetadata": {},
     "inputWidgets": {},
     "nuid": "083f35be-355f-4d07-be7c-605e0de5a063",
     "showTitle": false,
     "tableResultSettingsMap": {},
     "title": ""
    },
    "vscode": {
     "languageId": "sql"
    }
   },
   "outputs": [],
   "source": [
    "-- Display analytics\n",
    "SELECT 'Order Quality Metrics' as metric_type;\n",
    "SELECT * FROM order_quality_metrics;\n",
    "\n",
    "SELECT 'Payment Method Analysis' as metric_type;\n",
    "SELECT * FROM payment_method_analysis;\n",
    "\n",
    "SELECT 'Day of Week Patterns' as metric_type;\n",
    "SELECT * FROM temporal_patterns;\n",
    "\n",
    "SELECT 'Hourly Patterns (Top 10)' as metric_type;\n",
    "SELECT * FROM hourly_patterns ORDER BY order_count DESC LIMIT 10;\n",
    "\n",
    "SELECT 'Monthly Trends' as metric_type;\n",
    "SELECT * FROM monthly_trends ORDER BY order_year DESC, order_month DESC LIMIT 12;\n"
   ]
  },
  {
   "cell_type": "code",
   "execution_count": 0,
   "metadata": {
    "application/vnd.databricks.v1+cell": {
     "cellMetadata": {},
     "inputWidgets": {},
     "nuid": "f13e8ffb-72d5-4b5f-af99-09d21dbbf7e1",
     "showTitle": false,
     "tableResultSettingsMap": {},
     "title": ""
    },
    "vscode": {
     "languageId": "sql"
    }
   },
   "outputs": [],
   "source": [
    "-- Optimize table\n",
    "OPTIMIZE orders_clean;\n",
    "\n",
    "-- Update table statistics\n",
    "ANALYZE TABLE orders_clean COMPUTE STATISTICS;\n"
   ]
  }
 ],
 "metadata": {
  "application/vnd.databricks.v1+notebook": {
   "computePreferences": null,
   "dashboards": [],
   "environmentMetadata": null,
   "inputWidgetPreferences": null,
   "language": "python",
   "notebookMetadata": {},
   "notebookName": "03_bronze_to_silver_orders",
   "widgets": {}
  },
  "language_info": {
   "name": "python"
  }
 },
 "nbformat": 4,
 "nbformat_minor": 0
}
