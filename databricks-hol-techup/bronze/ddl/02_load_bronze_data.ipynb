{
 "cells": [
  {
   "cell_type": "code",
   "execution_count": 0,
   "metadata": {
    "application/vnd.databricks.v1+cell": {
     "cellMetadata": {
      "byteLimit": 2048000,
      "rowLimit": 10000
     },
     "inputWidgets": {},
     "nuid": "62b6cd99-843f-474d-99c0-08f76cb8b05b",
     "showTitle": false,
     "tableResultSettingsMap": {},
     "title": ""
    }
   },
   "outputs": [],
   "source": [
    "-- Load data into Bronze layer tables from CSV files\n",
    "-- Run this after generating sample data with the Python script\n",
    "\n",
    "use catalog apjtechup;\n",
    "USE schema bronze;\n"
   ]
  },
  {
   "cell_type": "code",
   "execution_count": 0,
   "metadata": {
    "application/vnd.databricks.v1+cell": {
     "cellMetadata": {
      "byteLimit": 2048000,
      "rowLimit": 10000
     },
     "inputWidgets": {},
     "nuid": "385b46e4-01bf-422c-9224-8befca98c8b9",
     "showTitle": false,
     "tableResultSettingsMap": {},
     "title": ""
    }
   },
   "outputs": [],
   "source": [
    "-- Load Categories\n",
    "create or replace table categories_raw\n",
    "select * from hive_metastore.ecommerce_hol.categories_raw;"
   ]
  },
  {
   "cell_type": "code",
   "execution_count": 0,
   "metadata": {
    "application/vnd.databricks.v1+cell": {
     "cellMetadata": {
      "byteLimit": 2048000,
      "rowLimit": 10000
     },
     "inputWidgets": {},
     "nuid": "9eb5066d-3486-41bb-80cb-29a7f746f5f0",
     "showTitle": false,
     "tableResultSettingsMap": {},
     "title": ""
    }
   },
   "outputs": [],
   "source": [
    "-- Load Suppliers\n",
    "create or replace table suppliers_raw\n",
    "select * from hive_metastore.ecommerce_hol.suppliers_raw;"
   ]
  },
  {
   "cell_type": "code",
   "execution_count": 0,
   "metadata": {
    "application/vnd.databricks.v1+cell": {
     "cellMetadata": {
      "byteLimit": 2048000,
      "rowLimit": 10000
     },
     "inputWidgets": {},
     "nuid": "fa2c6098-3db3-411f-8ef5-844a88f39a80",
     "showTitle": false,
     "tableResultSettingsMap": {},
     "title": ""
    }
   },
   "outputs": [],
   "source": [
    "-- Load Customers\n",
    "create or replace table customers_raw\n",
    "select * from hive_metastore.ecommerce_hol.customers_raw;"
   ]
  },
  {
   "cell_type": "code",
   "execution_count": 0,
   "metadata": {
    "application/vnd.databricks.v1+cell": {
     "cellMetadata": {
      "byteLimit": 2048000,
      "rowLimit": 10000
     },
     "inputWidgets": {},
     "nuid": "91741455-9a18-4885-96b2-43bfef56b279",
     "showTitle": false,
     "tableResultSettingsMap": {},
     "title": ""
    }
   },
   "outputs": [],
   "source": [
    "-- Load Products\n",
    "create or replace table products_raw\n",
    "select * from hive_metastore.ecommerce_hol.products_raw;"
   ]
  },
  {
   "cell_type": "code",
   "execution_count": 0,
   "metadata": {
    "application/vnd.databricks.v1+cell": {
     "cellMetadata": {
      "byteLimit": 2048000,
      "rowLimit": 10000
     },
     "inputWidgets": {},
     "nuid": "02b52a58-c625-4e4c-94fc-70ddc6430a1b",
     "showTitle": false,
     "tableResultSettingsMap": {},
     "title": ""
    }
   },
   "outputs": [],
   "source": [
    "\n",
    "-- Load Orders\n",
    "create or replace table orders_raw\n",
    "select * from hive_metastore.ecommerce_hol.orders_raw;"
   ]
  },
  {
   "cell_type": "code",
   "execution_count": 0,
   "metadata": {
    "application/vnd.databricks.v1+cell": {
     "cellMetadata": {
      "byteLimit": 2048000,
      "rowLimit": 10000
     },
     "inputWidgets": {},
     "nuid": "830247ac-7d91-416a-88f3-a56fde47786f",
     "showTitle": false,
     "tableResultSettingsMap": {},
     "title": ""
    }
   },
   "outputs": [],
   "source": [
    "-- Load Order Items (largest table)\n",
    "create or replace table order_items_raw\n",
    "select * from hive_metastore.ecommerce_hol.order_items_raw;"
   ]
  },
  {
   "cell_type": "code",
   "execution_count": 0,
   "metadata": {
    "application/vnd.databricks.v1+cell": {
     "cellMetadata": {
      "byteLimit": 2048000,
      "rowLimit": 10000
     },
     "inputWidgets": {},
     "nuid": "b762e264-582e-43bd-b744-e49e6558534a",
     "showTitle": false,
     "tableResultSettingsMap": {},
     "title": ""
    }
   },
   "outputs": [],
   "source": [
    "-- Load Inventory\n",
    "create or replace table inventory_raw\n",
    "select * from hive_metastore.ecommerce_hol.inventory_raw;"
   ]
  },
  {
   "cell_type": "code",
   "execution_count": 0,
   "metadata": {
    "application/vnd.databricks.v1+cell": {
     "cellMetadata": {
      "byteLimit": 2048000,
      "rowLimit": 10000
     },
     "inputWidgets": {},
     "nuid": "65b55816-30aa-4c10-9fd4-85ee1f6e0da7",
     "showTitle": false,
     "tableResultSettingsMap": {},
     "title": ""
    }
   },
   "outputs": [],
   "source": [
    "\n",
    "-- Load Reviews\n",
    "create or replace table reviews_raw\n",
    "select * from hive_metastore.ecommerce_hol.reviews_raw;"
   ]
  },
  {
   "cell_type": "code",
   "execution_count": 0,
   "metadata": {
    "application/vnd.databricks.v1+cell": {
     "cellMetadata": {
      "byteLimit": 2048000,
      "rowLimit": 10000
     },
     "inputWidgets": {},
     "nuid": "1d2fbb63-6d88-46f7-a35e-3295538b5f78",
     "showTitle": false,
     "tableResultSettingsMap": {},
     "title": ""
    }
   },
   "outputs": [],
   "source": [
    "-- Load Web Events\n",
    "create or replace table web_events_raw\n",
    "select * from hive_metastore.ecommerce_hol.web_events_raw;"
   ]
  },
  {
   "cell_type": "code",
   "execution_count": 0,
   "metadata": {
    "application/vnd.databricks.v1+cell": {
     "cellMetadata": {
      "byteLimit": 2048000,
      "rowLimit": 10000
     },
     "inputWidgets": {},
     "nuid": "153fb28d-f748-4040-af10-c82042acb474",
     "showTitle": false,
     "tableResultSettingsMap": {},
     "title": ""
    }
   },
   "outputs": [],
   "source": [
    "-- Load Shipping\n",
    "create or replace table shipping_raw\n",
    "select * from hive_metastore.ecommerce_hol.shipping_raw;\n"
   ]
  },
  {
   "cell_type": "code",
   "execution_count": 0,
   "metadata": {
    "application/vnd.databricks.v1+cell": {
     "cellMetadata": {
      "byteLimit": 2048000,
      "rowLimit": 10000
     },
     "inputWidgets": {},
     "nuid": "b03aa3d6-180a-4736-9c57-7ab1aea67baf",
     "showTitle": false,
     "tableResultSettingsMap": {},
     "title": ""
    }
   },
   "outputs": [],
   "source": [
    "-- Run OPTIMIZE and ANALYZE on all tables for better performance\n",
    "OPTIMIZE categories_raw;\n",
    "OPTIMIZE suppliers_raw;\n",
    "OPTIMIZE customers_raw;\n",
    "OPTIMIZE products_raw;\n",
    "OPTIMIZE orders_raw;\n",
    "OPTIMIZE order_items_raw;\n",
    "OPTIMIZE inventory_raw;\n",
    "OPTIMIZE reviews_raw;\n",
    "OPTIMIZE web_events_raw;\n",
    "OPTIMIZE shipping_raw;\n"
   ]
  },
  {
   "cell_type": "code",
   "execution_count": 0,
   "metadata": {
    "application/vnd.databricks.v1+cell": {
     "cellMetadata": {
      "byteLimit": 2048000,
      "rowLimit": 10000
     },
     "inputWidgets": {},
     "nuid": "4455b1b6-eb8f-490b-8d7d-b281f789f00e",
     "showTitle": false,
     "tableResultSettingsMap": {},
     "title": ""
    }
   },
   "outputs": [],
   "source": [
    "-- Analyze tables for query optimization\n",
    "ANALYZE TABLE categories_raw COMPUTE STATISTICS;\n",
    "ANALYZE TABLE suppliers_raw COMPUTE STATISTICS;\n",
    "ANALYZE TABLE customers_raw COMPUTE STATISTICS;\n",
    "ANALYZE TABLE products_raw COMPUTE STATISTICS;\n",
    "ANALYZE TABLE orders_raw COMPUTE STATISTICS;\n",
    "ANALYZE TABLE order_items_raw COMPUTE STATISTICS;\n",
    "ANALYZE TABLE inventory_raw COMPUTE STATISTICS;\n",
    "ANALYZE TABLE reviews_raw COMPUTE STATISTICS;\n",
    "ANALYZE TABLE web_events_raw COMPUTE STATISTICS;\n",
    "ANALYZE TABLE shipping_raw COMPUTE STATISTICS;"
   ]
  }
 ],
 "metadata": {
  "application/vnd.databricks.v1+notebook": {
   "computePreferences": null,
   "dashboards": [],
   "environmentMetadata": {
    "base_environment": "",
    "environment_version": "3"
   },
   "inputWidgetPreferences": null,
   "language": "sql",
   "notebookMetadata": {
    "pythonIndentUnit": 4
   },
   "notebookName": "02_load_bronze_data",
   "widgets": {}
  },
  "language_info": {
   "name": "sql"
  }
 },
 "nbformat": 4,
 "nbformat_minor": 0
}
