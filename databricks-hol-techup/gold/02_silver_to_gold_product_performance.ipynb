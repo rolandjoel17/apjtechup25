{
 "cells": [
  {
   "cell_type": "markdown",
   "metadata": {
    "application/vnd.databricks.v1+cell": {
     "cellMetadata": {},
     "inputWidgets": {},
     "nuid": "ec3b7680-efaa-42a1-9d82-e48d2ac51f43",
     "showTitle": false,
     "tableResultSettingsMap": {},
     "title": ""
    }
   },
   "source": [
    "# Silver to Gold: Product Performance\n",
    "\n",
    "This notebook transforms product data from the silver layer into analytical metrics in the gold layer. It creates comprehensive product performance analytics that can be used for inventory management, sales analysis, and product strategy.\n",
    "\n",
    "## Metrics Overview\n",
    "\n",
    "1. Sales Performance\n",
    "   - Quantity sold and revenue\n",
    "   - Profit margins\n",
    "   - Recent sales trends\n",
    "\n",
    "2. Inventory Metrics\n",
    "   - Stock levels and turnover\n",
    "   - Stockout tracking\n",
    "   - Days of supply\n",
    "\n",
    "3. Customer Behavior\n",
    "   - Unique customers\n",
    "   - Repeat purchase rates\n",
    "   - Customer retention\n",
    "\n",
    "4. Review & Rating Analysis\n",
    "   - Average ratings\n",
    "   - Rating distribution\n",
    "   - Sentiment analysis\n",
    "\n",
    "5. Web Analytics\n",
    "   - Product views\n",
    "   - Conversion rates\n",
    "   - Cart abandonment\n",
    "\n",
    "6. Performance Classification\n",
    "   - ABC analysis\n",
    "   - Velocity categories\n",
    "   - Product lifecycle stages\n",
    "\n",
    "## Dependencies\n",
    "- Silver layer tables: products_clean, order_items_clean, orders_clean, inventory_clean, reviews_clean, web_events_clean\n",
    "- Gold layer output: product_performance\n"
   ]
  },
  {
   "cell_type": "code",
   "execution_count": 0,
   "metadata": {
    "application/vnd.databricks.v1+cell": {
     "cellMetadata": {},
     "inputWidgets": {},
     "nuid": "5edd88ed-ddb1-4755-837e-15eb564489f6",
     "showTitle": false,
     "tableResultSettingsMap": {},
     "title": ""
    },
    "vscode": {
     "languageId": "sql"
    }
   },
   "outputs": [],
   "source": [
    "-- Set up the environment\n",
    "use catalog apjtechup;\n",
    "use database gold;\n"
   ]
  },
  {
   "cell_type": "markdown",
   "metadata": {
    "application/vnd.databricks.v1+cell": {
     "cellMetadata": {},
     "inputWidgets": {},
     "nuid": "d6bc5d22-2105-4e31-98c7-fa7a06bb0e65",
     "showTitle": false,
     "tableResultSettingsMap": {},
     "title": ""
    }
   },
   "source": [
    "## Create Product Performance Table\n",
    "\n",
    "The following query creates a comprehensive product performance table that combines sales, inventory, and customer behavior metrics.\n"
   ]
  },
  {
   "cell_type": "code",
   "execution_count": 0,
   "metadata": {
    "application/vnd.databricks.v1+cell": {
     "cellMetadata": {},
     "inputWidgets": {},
     "nuid": "ce732cb5-5f66-4fcb-a3d3-254e90324130",
     "showTitle": false,
     "tableResultSettingsMap": {},
     "title": ""
    },
    "vscode": {
     "languageId": "sql"
    }
   },
   "outputs": [],
   "source": [
    "-- Create product performance table\n",
    "CREATE OR REPLACE TABLE product_performance using iceberg\n",
    "WITH product_sales AS (\n",
    "    SELECT \n",
    "        oi.product_id,\n",
    "        SUM(oi.quantity) as total_quantity_sold,\n",
    "        SUM(oi.total_amount) as total_revenue,\n",
    "        SUM(oi.item_profit) as total_profit,\n",
    "        COUNT(DISTINCT oi.order_id) as total_orders,\n",
    "        COUNT(DISTINCT o.customer_id) as unique_customers,\n",
    "        AVG(oi.unit_price) as avg_selling_price,\n",
    "        -- Last 30 days metrics\n",
    "        SUM(CASE WHEN o.order_date_only >= CURRENT_DATE() - INTERVAL 30 DAYS THEN oi.quantity ELSE 0 END) as units_sold_last_30d,\n",
    "        SUM(CASE WHEN o.order_date_only >= CURRENT_DATE() - INTERVAL 30 DAYS THEN oi.total_amount ELSE 0 END) as revenue_last_30d\n",
    "    FROM apjtechup.silver.order_items_clean oi\n",
    "    JOIN apjtechup.silver.orders_clean o ON oi.order_id = o.order_id\n",
    "    GROUP BY oi.product_id\n",
    "),\n",
    "product_inventory AS (\n",
    "    SELECT \n",
    "        product_id,\n",
    "        AVG(quantity_on_hand) as avg_stock_level,\n",
    "        MAX(quantity_on_hand) as max_stock_level,\n",
    "        MIN(quantity_on_hand) as min_stock_level,\n",
    "        AVG(quantity_available) as current_stock_level,\n",
    "        COUNT(CASE WHEN stock_status = 'Out of Stock' THEN 1 END) as stockout_days,\n",
    "        AVG(days_of_supply) as avg_days_supply\n",
    "    FROM apjtechup.silver.inventory_clean\n",
    "    GROUP BY product_id\n",
    "),\n",
    "product_reviews AS (\n",
    "    SELECT \n",
    "        product_id,\n",
    "        COUNT(*) as total_reviews,\n",
    "        AVG(rating) as avg_rating,\n",
    "        COUNT(CASE WHEN rating = 1 THEN 1 END) as rating_1_star,\n",
    "        COUNT(CASE WHEN rating = 2 THEN 1 END) as rating_2_star,\n",
    "        COUNT(CASE WHEN rating = 3 THEN 1 END) as rating_3_star,\n",
    "        COUNT(CASE WHEN rating = 4 THEN 1 END) as rating_4_star,\n",
    "        COUNT(CASE WHEN rating = 5 THEN 1 END) as rating_5_star,\n",
    "        AVG(sentiment_score) as avg_sentiment_score\n",
    "    FROM apjtechup.silver.reviews_clean\n",
    "    GROUP BY product_id\n",
    "),\n",
    "product_web_metrics AS (\n",
    "    SELECT \n",
    "        product_id,\n",
    "        COUNT(CASE WHEN event_type = 'product_view' THEN 1 END) as product_views,\n",
    "        COUNT(CASE WHEN event_type = 'add_to_cart' THEN 1 END) as add_to_cart_events,\n",
    "        COUNT(DISTINCT customer_id) as unique_viewers\n",
    "    FROM apjtechup.silver.web_events_clean\n",
    "    WHERE product_id IS NOT NULL\n",
    "    GROUP BY product_id\n",
    "),\n",
    "repeat_customers AS (\n",
    "    SELECT \n",
    "        oi.product_id,\n",
    "        COUNT(CASE WHEN customer_order_count > 1 THEN 1 END) as repeat_customers,\n",
    "        COUNT(DISTINCT o.customer_id) as total_customers\n",
    "    FROM apjtechup.silver.order_items_clean oi\n",
    "    JOIN apjtechup.silver.orders_clean o ON oi.order_id = o.order_id\n",
    "    JOIN (\n",
    "        SELECT customer_id, COUNT(DISTINCT order_id) as customer_order_count\n",
    "        FROM apjtechup.silver.orders_clean\n",
    "        GROUP BY customer_id\n",
    "    ) cc ON o.customer_id = cc.customer_id\n",
    "    GROUP BY oi.product_id\n",
    ")\n",
    "SELECT \n",
    "    p.product_id,\n",
    "    p.product_name_clean as product_name,\n",
    "    p.category_name,\n",
    "    p.category_path,\n",
    "    p.brand,\n",
    "    p.supplier_name,\n",
    "    \n",
    "    -- Basic Product Info\n",
    "    p.price as current_price,\n",
    "    p.cost,\n",
    "    p.profit_margin,\n",
    "    p.price_tier,\n",
    "    \n",
    "    -- Sales Performance\n",
    "    COALESCE(ps.total_quantity_sold, 0) as total_quantity_sold,\n",
    "    ROUND(COALESCE(ps.total_revenue, 0), 2) as total_revenue,\n",
    "    ROUND(COALESCE(ps.total_profit, 0), 2) as total_profit,\n",
    "    COALESCE(ps.units_sold_last_30d, 0) as units_sold_last_30d,\n",
    "    ROUND(COALESCE(ps.revenue_last_30d, 0), 2) as revenue_last_30d,\n",
    "    \n",
    "    -- Inventory Metrics\n",
    "    ROUND(COALESCE(pi.current_stock_level, 0), 0) as current_stock_level,\n",
    "    ROUND(COALESCE(pi.avg_stock_level, 0), 2) as average_stock_level,\n",
    "    COALESCE(pi.stockout_days, 0) as stockout_days,\n",
    "    CASE \n",
    "        WHEN COALESCE(pi.avg_stock_level, 0) > 0 AND COALESCE(ps.total_quantity_sold, 0) > 0\n",
    "        THEN ROUND(COALESCE(ps.total_quantity_sold, 0) / COALESCE(pi.avg_stock_level, 1), 2)\n",
    "        ELSE 0\n",
    "    END as inventory_turnover_ratio,\n",
    "    ROUND(COALESCE(pi.avg_days_supply, 0), 1) as days_supply_current,\n",
    "    \n",
    "    -- Customer Metrics\n",
    "    COALESCE(ps.unique_customers, 0) as unique_customers,\n",
    "    CASE \n",
    "        WHEN COALESCE(rc.total_customers, 0) > 0\n",
    "        THEN ROUND(COALESCE(rc.repeat_customers, 0) * 100.0 / COALESCE(rc.total_customers, 1), 2)\n",
    "        ELSE 0\n",
    "    END as repeat_purchase_rate,\n",
    "    CASE \n",
    "        WHEN COALESCE(ps.unique_customers, 0) > 0\n",
    "        THEN ROUND(COALESCE(rc.repeat_customers, 0) * 100.0 / COALESCE(ps.unique_customers, 1), 2)\n",
    "        ELSE 0\n",
    "    END as customer_retention_rate,\n",
    "    \n",
    "    -- Review & Rating Metrics\n",
    "    COALESCE(pr.total_reviews, 0) as total_reviews,\n",
    "    ROUND(COALESCE(pr.avg_rating, 0), 2) as average_rating,\n",
    "    COALESCE(pr.rating_1_star, 0) as rating_distribution_1_star,\n",
    "    COALESCE(pr.rating_2_star, 0) as rating_distribution_2_star,\n",
    "    COALESCE(pr.rating_3_star, 0) as rating_distribution_3_star,\n",
    "    COALESCE(pr.rating_4_star, 0) as rating_distribution_4_star,\n",
    "    COALESCE(pr.rating_5_star, 0) as rating_distribution_5_star,\n",
    "    ROUND(COALESCE(pr.avg_sentiment_score, 0), 2) as review_sentiment_score,\n",
    "    \n",
    "    -- Trend Analysis (simplified)\n",
    "    CASE \n",
    "        WHEN COALESCE(ps.units_sold_last_30d, 0) > COALESCE(ps.total_quantity_sold, 0) * 0.3 THEN 'Growing'\n",
    "        WHEN COALESCE(ps.units_sold_last_30d, 0) > COALESCE(ps.total_quantity_sold, 0) * 0.1 THEN 'Stable'\n",
    "        ELSE 'Declining'\n",
    "    END as sales_trend_30d,\n",
    "    'Stable' as price_trend_30d, -- Placeholder\n",
    "    CASE \n",
    "        WHEN COALESCE(pi.stockout_days, 0) > 10 THEN 'Declining'\n",
    "        WHEN COALESCE(pi.current_stock_level, 0) > COALESCE(pi.avg_stock_level, 0) * 1.5 THEN 'Increasing'\n",
    "        ELSE 'Stable'\n",
    "    END as inventory_trend,\n",
    "    ROUND(RANDOM() * 5, 2) as demand_volatility_score, -- Placeholder - would need historical data\n",
    "    \n",
    "    -- Performance Classification\n",
    "    CASE \n",
    "        WHEN COALESCE(ps.total_revenue, 0) >= 10000 AND COALESCE(pr.avg_rating, 0) >= 4.0 THEN 'Star'\n",
    "        WHEN COALESCE(ps.total_revenue, 0) >= 5000 AND COALESCE(pr.avg_rating, 0) >= 3.5 THEN 'Strong'\n",
    "        WHEN COALESCE(ps.total_revenue, 0) >= 1000 THEN 'Average'\n",
    "        ELSE 'Weak'\n",
    "    END as performance_tier,\n",
    "    CASE \n",
    "        WHEN COALESCE(ps.total_revenue, 0) >= 10000 THEN 'A'\n",
    "        WHEN COALESCE(ps.total_revenue, 0) >= 1000 THEN 'B'\n",
    "        ELSE 'C'\n",
    "    END as abc_classification,\n",
    "    CASE \n",
    "        WHEN COALESCE(ps.units_sold_last_30d, 0) >= 100 THEN 'Fast Moving'\n",
    "        WHEN COALESCE(ps.units_sold_last_30d, 0) >= 10 THEN 'Normal Moving'\n",
    "        ELSE 'Slow Moving'\n",
    "    END as velocity_category,\n",
    "    p.product_lifecycle_stage as lifecycle_stage,\n",
    "    \n",
    "    -- Web Analytics\n",
    "    COALESCE(pwm.product_views, 0) as product_views,\n",
    "    CASE \n",
    "        WHEN COALESCE(pwm.product_views, 0) > 0\n",
    "        THEN ROUND(COALESCE(ps.total_quantity_sold, 0) * 100.0 / COALESCE(pwm.product_views, 1), 2)\n",
    "        ELSE 0\n",
    "    END as conversion_rate,\n",
    "    CASE \n",
    "        WHEN COALESCE(pwm.add_to_cart_events, 0) > 0\n",
    "        THEN ROUND((COALESCE(pwm.add_to_cart_events, 0) - COALESCE(ps.total_quantity_sold, 0)) * 100.0 / \n",
    "                   COALESCE(pwm.add_to_cart_events, 1), 2)\n",
    "        ELSE 0\n",
    "    END as cart_abandonment_rate,\n",
    "    \n",
    "    -- Metadata\n",
    "    CURRENT_TIMESTAMP() as created_at,\n",
    "    CURRENT_TIMESTAMP() as updated_at\n",
    "FROM apjtechup.silver.products_clean p\n",
    "LEFT JOIN product_sales ps ON p.product_id = ps.product_id\n",
    "LEFT JOIN product_inventory pi ON p.product_id = pi.product_id\n",
    "LEFT JOIN product_reviews pr ON p.product_id = pr.product_id\n",
    "LEFT JOIN product_web_metrics pwm ON p.product_id = pwm.product_id\n",
    "LEFT JOIN repeat_customers rc ON p.product_id = rc.product_id\n",
    "WHERE p.is_active = TRUE;\n"
   ]
  },
  {
   "cell_type": "markdown",
   "metadata": {
    "application/vnd.databricks.v1+cell": {
     "cellMetadata": {},
     "inputWidgets": {},
     "nuid": "433c34f3-e900-433b-a1f3-91217fb77f47",
     "showTitle": false,
     "tableResultSettingsMap": {},
     "title": ""
    }
   },
   "source": [
    "## Generate Summary Statistics\n",
    "\n",
    "Creating summary views to analyze the product performance data.\n"
   ]
  },
  {
   "cell_type": "code",
   "execution_count": 0,
   "metadata": {
    "application/vnd.databricks.v1+cell": {
     "cellMetadata": {},
     "inputWidgets": {},
     "nuid": "7d599f6a-ba36-4afa-82ad-7a5bbb2531f3",
     "showTitle": false,
     "tableResultSettingsMap": {},
     "title": ""
    },
    "vscode": {
     "languageId": "sql"
    }
   },
   "outputs": [],
   "source": [
    "-- Create summary statistics\n",
    "CREATE OR REPLACE TEMPORARY VIEW product_performance_summary AS\n",
    "SELECT \n",
    "    COUNT(*) as total_products,\n",
    "    ROUND(SUM(total_revenue), 2) as total_revenue_all_products,\n",
    "    ROUND(AVG(total_revenue), 2) as avg_revenue_per_product,\n",
    "    ROUND(AVG(average_rating), 2) as avg_product_rating,\n",
    "    COUNT(CASE WHEN performance_tier = 'Star' THEN 1 END) as star_products,\n",
    "    COUNT(CASE WHEN performance_tier = 'Strong' THEN 1 END) as strong_products,\n",
    "    COUNT(CASE WHEN performance_tier = 'Average' THEN 1 END) as average_products,\n",
    "    COUNT(CASE WHEN performance_tier = 'Weak' THEN 1 END) as weak_products,\n",
    "    COUNT(CASE WHEN abc_classification = 'A' THEN 1 END) as class_a_products,\n",
    "    COUNT(CASE WHEN abc_classification = 'B' THEN 1 END) as class_b_products,\n",
    "    COUNT(CASE WHEN abc_classification = 'C' THEN 1 END) as class_c_products\n",
    "FROM product_performance;\n",
    "\n",
    "-- Display summary\n",
    "SELECT 'Product Performance Summary' as report_type;\n",
    "SELECT * FROM product_performance_summary;\n"
   ]
  },
  {
   "cell_type": "markdown",
   "metadata": {
    "application/vnd.databricks.v1+cell": {
     "cellMetadata": {},
     "inputWidgets": {},
     "nuid": "6d56f443-37de-4f18-8b7a-653214df2bb3",
     "showTitle": false,
     "tableResultSettingsMap": {},
     "title": ""
    }
   },
   "source": [
    "## Top Product Analysis\n",
    "\n",
    "Analyzing the top performing products by revenue and their characteristics.\n"
   ]
  },
  {
   "cell_type": "code",
   "execution_count": 0,
   "metadata": {
    "application/vnd.databricks.v1+cell": {
     "cellMetadata": {},
     "inputWidgets": {},
     "nuid": "f31f82ea-1658-4b8a-88af-3df7f79b9f8d",
     "showTitle": false,
     "tableResultSettingsMap": {},
     "title": ""
    },
    "vscode": {
     "languageId": "sql"
    }
   },
   "outputs": [],
   "source": [
    "-- Top performing products\n",
    "SELECT 'Top 10 Products by Revenue' as report_type;\n",
    "SELECT \n",
    "    product_name,\n",
    "    category_name,\n",
    "    brand,\n",
    "    performance_tier,\n",
    "    total_revenue,\n",
    "    total_quantity_sold,\n",
    "    average_rating,\n",
    "    total_reviews,\n",
    "    velocity_category\n",
    "FROM product_performance \n",
    "ORDER BY total_revenue DESC \n",
    "LIMIT 10;\n"
   ]
  },
  {
   "cell_type": "markdown",
   "metadata": {
    "application/vnd.databricks.v1+cell": {
     "cellMetadata": {},
     "inputWidgets": {},
     "nuid": "5965914e-1d02-4313-9f3c-29cfc57bd5af",
     "showTitle": false,
     "tableResultSettingsMap": {},
     "title": ""
    }
   },
   "source": [
    "## Category Analysis\n",
    "\n",
    "Analyzing product performance by category.\n"
   ]
  },
  {
   "cell_type": "code",
   "execution_count": 0,
   "metadata": {
    "application/vnd.databricks.v1+cell": {
     "cellMetadata": {},
     "inputWidgets": {},
     "nuid": "3ed8b8e0-d903-4de2-be56-4ed6aad0f6b0",
     "showTitle": false,
     "tableResultSettingsMap": {},
     "title": ""
    },
    "vscode": {
     "languageId": "sql"
    }
   },
   "outputs": [],
   "source": [
    "-- Category performance\n",
    "SELECT 'Category Performance' as report_type;\n",
    "SELECT \n",
    "    category_name,\n",
    "    COUNT(*) as product_count,\n",
    "    ROUND(SUM(total_revenue), 2) as total_revenue,\n",
    "    ROUND(AVG(total_revenue), 2) as avg_revenue_per_product,\n",
    "    ROUND(AVG(average_rating), 2) as avg_rating,\n",
    "    COUNT(CASE WHEN performance_tier = 'Star' THEN 1 END) as star_products\n",
    "FROM product_performance\n",
    "GROUP BY category_name\n",
    "ORDER BY total_revenue DESC\n",
    "LIMIT 10;\n"
   ]
  },
  {
   "cell_type": "markdown",
   "metadata": {
    "application/vnd.databricks.v1+cell": {
     "cellMetadata": {},
     "inputWidgets": {},
     "nuid": "5ce0aacf-1211-4de7-b8f5-e9ec291d9548",
     "showTitle": false,
     "tableResultSettingsMap": {},
     "title": ""
    }
   },
   "source": [
    "## Brand Analysis\n",
    "\n",
    "Analyzing product performance by brand.\n"
   ]
  },
  {
   "cell_type": "code",
   "execution_count": 0,
   "metadata": {
    "application/vnd.databricks.v1+cell": {
     "cellMetadata": {},
     "inputWidgets": {},
     "nuid": "99e1541f-85e5-471c-bcfc-cf6bf2207a51",
     "showTitle": false,
     "tableResultSettingsMap": {},
     "title": ""
    },
    "vscode": {
     "languageId": "sql"
    }
   },
   "outputs": [],
   "source": [
    "-- Brand performance\n",
    "SELECT 'Brand Performance' as report_type;\n",
    "SELECT \n",
    "    brand,\n",
    "    COUNT(*) as product_count,\n",
    "    ROUND(SUM(total_revenue), 2) as total_revenue,\n",
    "    ROUND(AVG(average_rating), 2) as avg_rating,\n",
    "    COUNT(CASE WHEN performance_tier IN ('Star', 'Strong') THEN 1 END) as top_tier_products\n",
    "FROM product_performance\n",
    "GROUP BY brand\n",
    "ORDER BY total_revenue DESC\n",
    "LIMIT 10;\n"
   ]
  },
  {
   "cell_type": "markdown",
   "metadata": {
    "application/vnd.databricks.v1+cell": {
     "cellMetadata": {},
     "inputWidgets": {},
     "nuid": "ea5cbad7-7095-4664-9e53-5b16ede6732d",
     "showTitle": false,
     "tableResultSettingsMap": {},
     "title": ""
    }
   },
   "source": [
    "## Optimize Table\n",
    "\n",
    "Optimizing the product performance table for better query performance.\n"
   ]
  },
  {
   "cell_type": "code",
   "execution_count": 0,
   "metadata": {
    "application/vnd.databricks.v1+cell": {
     "cellMetadata": {},
     "inputWidgets": {},
     "nuid": "00614eea-97c9-49d0-9231-109dbb0a50e7",
     "showTitle": false,
     "tableResultSettingsMap": {},
     "title": ""
    },
    "vscode": {
     "languageId": "sql"
    }
   },
   "outputs": [],
   "source": [
    "-- Optimize table\n",
    "OPTIMIZE product_performance;\n"
   ]
  }
 ],
 "metadata": {
  "application/vnd.databricks.v1+notebook": {
   "computePreferences": null,
   "dashboards": [],
   "environmentMetadata": null,
   "inputWidgetPreferences": null,
   "language": "sql",
   "notebookMetadata": {
    "pythonIndentUnit": 4
   },
   "notebookName": "02_silver_to_gold_product_performance",
   "widgets": {}
  },
  "language_info": {
   "name": "sql"
  }
 },
 "nbformat": 4,
 "nbformat_minor": 0
}
