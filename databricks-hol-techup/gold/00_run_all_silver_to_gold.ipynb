{
 "cells": [
  {
   "cell_type": "markdown",
   "metadata": {
    "application/vnd.databricks.v1+cell": {
     "cellMetadata": {
      "byteLimit": 2048000,
      "rowLimit": 10000
     },
     "inputWidgets": {},
     "nuid": "2d9a0df2-f4e5-4b10-abd8-edb2fed13dd9",
     "showTitle": false,
     "tableResultSettingsMap": {},
     "title": ""
    }
   },
   "source": [
    "# Silver to Gold Data Transformation Pipeline\n",
    "\n",
    "This notebook orchestrates the entire Silver to Gold data transformation process. It executes a series of transformations to create analytical tables in the gold layer.\n",
    "\n",
    "## Process Overview\n",
    "\n",
    "1. Customer Metrics Generation\n",
    "   - Creates detailed customer analytics\n",
    "   - Includes purchase behavior, segmentation, and lifetime value metrics\n",
    "\n",
    "2. Product Performance Analysis\n",
    "   - Analyzes product sales and performance\n",
    "   - Includes inventory metrics and customer behavior patterns\n",
    "\n",
    "3. Sales Summary Creation\n",
    "   - Comprehensive sales analytics\n",
    "   - Daily aggregations with various dimensions\n",
    "\n",
    "4. Inventory Insights\n",
    "   - Stock level analysis\n",
    "   - Demand patterns and optimization metrics\n",
    "\n",
    "## Execution Notes\n",
    "\n",
    "- The notebook uses adaptive query optimization\n",
    "- Tables are created using the Iceberg table format\n",
    "- Each section includes progress logging\n",
    "- Final optimization and statistics computation is performed on all tables\n"
   ]
  },
  {
   "cell_type": "code",
   "execution_count": 0,
   "metadata": {
    "application/vnd.databricks.v1+cell": {
     "cellMetadata": {
      "byteLimit": 2048000,
      "rowLimit": 10000
     },
     "inputWidgets": {},
     "nuid": "c075bad1-7d1b-45d2-9a76-27caaab8c659",
     "showTitle": false,
     "tableResultSettingsMap": {},
     "title": ""
    }
   },
   "outputs": [],
   "source": [
    "use catalog apjtechup;\n",
    "use schema gold;"
   ]
  },
  {
   "cell_type": "code",
   "execution_count": 0,
   "metadata": {
    "application/vnd.databricks.v1+cell": {
     "cellMetadata": {
      "byteLimit": 2048000,
      "rowLimit": 10000
     },
     "inputWidgets": {},
     "nuid": "9cd0343d-1bbb-40ae-bd21-6a995eb79d70",
     "showTitle": false,
     "tableResultSettingsMap": {},
     "title": ""
    },
    "vscode": {
     "languageId": "sql"
    }
   },
   "outputs": [],
   "source": [
    "-- Log transformation start\n",
    "SELECT 'Starting Silver to Gold ELT Process' as status, CURRENT_TIMESTAMP() as start_time;\n"
   ]
  },
  {
   "cell_type": "markdown",
   "metadata": {
    "application/vnd.databricks.v1+cell": {
     "cellMetadata": {
      "byteLimit": 2048000,
      "rowLimit": 10000
     },
     "inputWidgets": {},
     "nuid": "05325de0-a8c3-430a-b4c3-a3cdd2ff17b5",
     "showTitle": false,
     "tableResultSettingsMap": {},
     "title": ""
    }
   },
   "source": [
    "## 1. Customer Metrics Generation\n",
    "\n",
    "Running the customer metrics transformation notebook to create customer analytics table.\n"
   ]
  },
  {
   "cell_type": "code",
   "execution_count": 0,
   "metadata": {
    "application/vnd.databricks.v1+cell": {
     "cellMetadata": {
      "byteLimit": 2048000,
      "rowLimit": 10000
     },
     "inputWidgets": {},
     "nuid": "26b828ad-2983-4383-9d35-cdad8fb08e37",
     "showTitle": false,
     "tableResultSettingsMap": {},
     "title": ""
    },
    "vscode": {
     "languageId": "sql"
    }
   },
   "outputs": [],
   "source": [
    "SELECT 'Creating Customer Metrics...' as step, CURRENT_TIMESTAMP() as timestamp"
   ]
  },
  {
   "cell_type": "code",
   "execution_count": 0,
   "metadata": {
    "application/vnd.databricks.v1+cell": {
     "cellMetadata": {
      "byteLimit": 2048000,
      "rowLimit": 10000
     },
     "inputWidgets": {},
     "nuid": "2d5e005c-cb16-42cd-b882-a30cb8cb47e8",
     "showTitle": false,
     "tableResultSettingsMap": {},
     "title": ""
    }
   },
   "outputs": [],
   "source": [
    "%run ./01_silver_to_gold_customer_metrics"
   ]
  },
  {
   "cell_type": "markdown",
   "metadata": {
    "application/vnd.databricks.v1+cell": {
     "cellMetadata": {
      "byteLimit": 2048000,
      "rowLimit": 10000
     },
     "inputWidgets": {},
     "nuid": "e5b8c3db-f91e-4282-b725-44fbe05d2be6",
     "showTitle": false,
     "tableResultSettingsMap": {},
     "title": ""
    }
   },
   "source": [
    "## 2. Product Performance Analysis\n",
    "\n",
    "Running the product performance transformation notebook to analyze product metrics.\n"
   ]
  },
  {
   "cell_type": "code",
   "execution_count": 0,
   "metadata": {
    "application/vnd.databricks.v1+cell": {
     "cellMetadata": {
      "byteLimit": 2048000,
      "rowLimit": 10000
     },
     "inputWidgets": {},
     "nuid": "37a57461-be7f-4f42-b672-39df79712d50",
     "showTitle": false,
     "tableResultSettingsMap": {},
     "title": ""
    },
    "vscode": {
     "languageId": "sql"
    }
   },
   "outputs": [],
   "source": [
    "SELECT 'Creating Product Performance...' as step, CURRENT_TIMESTAMP() as timestamp;\n"
   ]
  },
  {
   "cell_type": "code",
   "execution_count": 0,
   "metadata": {
    "application/vnd.databricks.v1+cell": {
     "cellMetadata": {
      "byteLimit": 2048000,
      "rowLimit": 10000
     },
     "inputWidgets": {},
     "nuid": "0b021887-b45b-4312-9fd8-9fdf43a10d49",
     "showTitle": false,
     "tableResultSettingsMap": {},
     "title": ""
    }
   },
   "outputs": [],
   "source": [
    "%run ./02_silver_to_gold_product_performance\n"
   ]
  },
  {
   "cell_type": "markdown",
   "metadata": {
    "application/vnd.databricks.v1+cell": {
     "cellMetadata": {
      "byteLimit": 2048000,
      "rowLimit": 10000
     },
     "inputWidgets": {},
     "nuid": "b41ea145-0c88-45e0-9b67-89c4490014e3",
     "showTitle": false,
     "tableResultSettingsMap": {},
     "title": ""
    }
   },
   "source": [
    "## 3. Sales Summary Creation\n",
    "\n",
    "Creating a comprehensive sales summary table with daily aggregations and various business metrics.\n"
   ]
  },
  {
   "cell_type": "code",
   "execution_count": 0,
   "metadata": {
    "application/vnd.databricks.v1+cell": {
     "cellMetadata": {
      "byteLimit": 2048000,
      "rowLimit": 10000
     },
     "inputWidgets": {},
     "nuid": "06f10123-cb3f-4eb2-97b4-97bcbd51924c",
     "showTitle": false,
     "tableResultSettingsMap": {},
     "title": ""
    },
    "vscode": {
     "languageId": "sql"
    }
   },
   "outputs": [],
   "source": [
    "SELECT 'Creating Sales Summary...' as step, CURRENT_TIMESTAMP() as timestamp;\n",
    "\n",
    "CREATE OR REPLACE TABLE sales_summary USING ICEBERG\n",
    "WITH daily_sales AS (\n",
    "    SELECT \n",
    "        o.order_date_only as date_key,\n",
    "        YEAR(o.order_date_only) as year,\n",
    "        QUARTER(o.order_date_only) as quarter,\n",
    "        MONTH(o.order_date_only) as month,\n",
    "        WEEKOFYEAR(o.order_date_only) as week_of_year,\n",
    "        CASE DAYOFWEEK(o.order_date_only)\n",
    "            WHEN 1 THEN 'Sunday'\n",
    "            WHEN 2 THEN 'Monday'\n",
    "            WHEN 3 THEN 'Tuesday'\n",
    "            WHEN 4 THEN 'Wednesday'\n",
    "            WHEN 5 THEN 'Thursday'\n",
    "            WHEN 6 THEN 'Friday'\n",
    "            WHEN 7 THEN 'Saturday'\n",
    "        END as day_of_week,\n",
    "        DAY(o.order_date_only) as day_of_month,\n",
    "        CASE WHEN DAYOFWEEK(o.order_date_only) IN (1, 7) THEN TRUE ELSE FALSE END as is_weekend,\n",
    "        FALSE as is_holiday, -- Placeholder\n",
    "        \n",
    "        -- Geographic dimensions (simplified)\n",
    "        CASE \n",
    "            WHEN c.state IN ('CA', 'WA', 'OR', 'NV', 'AZ') THEN 'West'\n",
    "            WHEN c.state IN ('TX', 'OK', 'AR', 'LA', 'NM') THEN 'South'\n",
    "            WHEN c.state IN ('NY', 'NJ', 'CT', 'MA', 'PA') THEN 'Northeast'\n",
    "            ELSE 'Other'\n",
    "        END as region,\n",
    "        c.state,\n",
    "        \n",
    "        -- Product dimensions\n",
    "        oi.category_name,\n",
    "        oi.brand,\n",
    "        \n",
    "        -- Customer dimensions\n",
    "        c.customer_tier,\n",
    "        CASE \n",
    "            WHEN cm.customer_segment IS NOT NULL THEN cm.customer_segment\n",
    "            ELSE 'Unknown'\n",
    "        END as customer_segment,\n",
    "        \n",
    "        -- Metrics\n",
    "        COUNT(DISTINCT o.order_id) as total_orders,\n",
    "        COUNT(DISTINCT o.customer_id) as total_customers,\n",
    "        SUM(o.total_amount) as gross_revenue,\n",
    "        SUM(o.net_amount) as net_revenue,\n",
    "        SUM(o.discount_amount) as total_discounts,\n",
    "        SUM(o.shipping_cost) as shipping_revenue,\n",
    "        SUM(o.tax_amount) as tax_revenue,\n",
    "        SUM(oi.quantity) as total_units_sold,\n",
    "        SUM(oi.total_amount - (oi.unit_cost * oi.quantity)) as total_profit,\n",
    "        SUM(oi.unit_cost * oi.quantity) as total_cost\n",
    "    FROM apjtechup.silver.orders_clean o\n",
    "    JOIN apjtechup.silver.order_items_clean oi ON o.order_id = oi.order_id\n",
    "    JOIN apjtechup.silver.customers_clean c ON o.customer_id = c.customer_id\n",
    "    LEFT JOIN apjtechup.gold.customer_metrics cm ON o.customer_id = cm.customer_id\n",
    "    GROUP BY \n",
    "        o.order_date_only, c.state, oi.category_name, oi.brand, \n",
    "        c.customer_tier, cm.customer_segment\n",
    "),\n",
    "new_customers AS (\n",
    "    SELECT \n",
    "        first_order_date as date_key,\n",
    "        COUNT(*) as new_customers\n",
    "    FROM (\n",
    "        SELECT \n",
    "            customer_id,\n",
    "            MIN(order_date_only) as first_order_date\n",
    "        FROM apjtechup.silver.orders_clean\n",
    "        GROUP BY customer_id\n",
    "    ) first_orders\n",
    "    GROUP BY first_order_date\n",
    "),\n",
    "growth_metrics AS (\n",
    "    SELECT \n",
    "        date_key,\n",
    "        gross_revenue,\n",
    "        LAG(gross_revenue, 7) OVER (ORDER BY date_key) as revenue_week_ago,\n",
    "        LAG(gross_revenue, 30) OVER (ORDER BY date_key) as revenue_month_ago,\n",
    "        LAG(gross_revenue, 365) OVER (ORDER BY date_key) as revenue_year_ago\n",
    "    FROM (\n",
    "        SELECT \n",
    "            date_key,\n",
    "            SUM(gross_revenue) as gross_revenue\n",
    "        FROM daily_sales\n",
    "        GROUP BY date_key\n",
    "    ) daily_totals\n",
    ")\n",
    "SELECT \n",
    "    ds.date_key,\n",
    "    ds.year,\n",
    "    ds.quarter,\n",
    "    ds.month,\n",
    "    ds.week_of_year,\n",
    "    ds.day_of_week,\n",
    "    ds.day_of_month,\n",
    "    ds.is_weekend,\n",
    "    ds.is_holiday,\n",
    "    ds.region,\n",
    "    ds.state,\n",
    "    ds.category_name,\n",
    "    ds.brand,\n",
    "    ds.customer_tier,\n",
    "    ds.customer_segment,\n",
    "    \n",
    "    -- Sales Metrics\n",
    "    ds.total_orders,\n",
    "    ds.total_customers,\n",
    "    COALESCE(nc.new_customers, 0) as new_customers,\n",
    "    ds.total_customers - COALESCE(nc.new_customers, 0) as returning_customers,\n",
    "    \n",
    "    -- Revenue Metrics\n",
    "    ROUND(ds.gross_revenue, 2) as gross_revenue,\n",
    "    ROUND(ds.net_revenue, 2) as net_revenue,\n",
    "    ROUND(ds.total_discounts, 2) as total_discounts,\n",
    "    ROUND(ds.shipping_revenue, 2) as shipping_revenue,\n",
    "    ROUND(ds.tax_revenue, 2) as tax_revenue,\n",
    "    \n",
    "    -- Unit Metrics\n",
    "    ds.total_units_sold,\n",
    "    ROUND(ds.gross_revenue / GREATEST(ds.total_orders, 1), 2) as average_order_value,\n",
    "    ROUND(ds.total_units_sold / GREATEST(ds.total_orders, 1), 2) as average_units_per_order,\n",
    "    \n",
    "    -- Profitability\n",
    "    ROUND(ds.total_cost, 2) as total_cost,\n",
    "    ROUND(ds.total_profit, 2) as gross_profit,\n",
    "    ROUND(ds.total_profit / GREATEST(ds.gross_revenue, 1) * 100, 2) as gross_margin_percentage,\n",
    "    \n",
    "    -- Growth Metrics\n",
    "    CASE \n",
    "        WHEN gm.revenue_week_ago > 0 \n",
    "        THEN ROUND((ds.gross_revenue - gm.revenue_week_ago) / gm.revenue_week_ago * 100, 2)\n",
    "        ELSE 0\n",
    "    END as revenue_growth_wow,\n",
    "    CASE \n",
    "        WHEN gm.revenue_month_ago > 0 \n",
    "        THEN ROUND((ds.gross_revenue - gm.revenue_month_ago) / gm.revenue_month_ago * 100, 2)\n",
    "        ELSE 0\n",
    "    END as revenue_growth_mom,\n",
    "    CASE \n",
    "        WHEN gm.revenue_year_ago > 0 \n",
    "        THEN ROUND((ds.gross_revenue - gm.revenue_year_ago) / gm.revenue_year_ago * 100, 2)\n",
    "        ELSE 0\n",
    "    END as revenue_growth_yoy,\n",
    "    0.0 as customer_growth_rate, -- Placeholder\n",
    "    \n",
    "    -- Operational Metrics (placeholders)\n",
    "    95.0 as order_fulfillment_rate,\n",
    "    2.5 as average_shipping_days,\n",
    "    5.0 as return_rate,\n",
    "    \n",
    "    -- Digital Metrics (placeholders)\n",
    "    3.5 as web_conversion_rate,\n",
    "    45.0 as mobile_percentage,\n",
    "    \n",
    "    -- Metadata\n",
    "    CURRENT_TIMESTAMP() as created_at,\n",
    "    CURRENT_TIMESTAMP() as updated_at\n",
    "FROM daily_sales ds\n",
    "LEFT JOIN new_customers nc ON ds.date_key = nc.date_key\n",
    "LEFT JOIN growth_metrics gm ON ds.date_key = gm.date_key;\n"
   ]
  },
  {
   "cell_type": "markdown",
   "metadata": {
    "application/vnd.databricks.v1+cell": {
     "cellMetadata": {
      "byteLimit": 2048000,
      "rowLimit": 10000
     },
     "inputWidgets": {},
     "nuid": "131f9f66-89bb-4800-adb9-ba4fd1c555c3",
     "showTitle": false,
     "tableResultSettingsMap": {},
     "title": ""
    }
   },
   "source": [
    "## 4. Inventory Insights\n",
    "\n",
    "Creating inventory insights table with stock analysis and demand patterns.\n"
   ]
  },
  {
   "cell_type": "code",
   "execution_count": 0,
   "metadata": {
    "application/vnd.databricks.v1+cell": {
     "cellMetadata": {
      "byteLimit": 2048000,
      "rowLimit": 10000
     },
     "inputWidgets": {},
     "nuid": "945c7330-5232-489f-b23e-6396e9776e61",
     "showTitle": false,
     "tableResultSettingsMap": {},
     "title": ""
    },
    "vscode": {
     "languageId": "sql"
    }
   },
   "outputs": [],
   "source": [
    "SELECT 'Creating Inventory Insights...' as step, CURRENT_TIMESTAMP() as timestamp;\n",
    "\n",
    "CREATE OR REPLACE TABLE inventory_insights using iceberg\n",
    "WITH demand_analysis AS (\n",
    "    SELECT \n",
    "        oi.product_id,\n",
    "        SUM(CASE WHEN o.order_date_only >= CURRENT_DATE() - INTERVAL 7 DAYS THEN oi.quantity ELSE 0 END) as demand_7d,\n",
    "        SUM(CASE WHEN o.order_date_only >= CURRENT_DATE() - INTERVAL 30 DAYS THEN oi.quantity ELSE 0 END) as demand_30d,\n",
    "        SUM(CASE WHEN o.order_date_only >= CURRENT_DATE() - INTERVAL 90 DAYS THEN oi.quantity ELSE 0 END) as demand_90d,\n",
    "        AVG(oi.quantity) as avg_daily_demand,\n",
    "        STDDEV(oi.quantity) as demand_stddev\n",
    "    FROM apjtechup.silver.order_items_clean oi\n",
    "    JOIN apjtechup.silver.orders_clean o ON oi.order_id = o.order_id\n",
    "    GROUP BY oi.product_id\n",
    "),\n",
    "inventory_financial AS (\n",
    "    SELECT \n",
    "        i.product_id,\n",
    "        i.warehouse_id,\n",
    "        i.quantity_available * p.cost as inventory_value,\n",
    "        i.quantity_available * p.cost * 0.02 as carrying_cost_monthly -- 2% monthly carrying cost\n",
    "    FROM apjtechup.silver.inventory_clean i\n",
    "    JOIN apjtechup.silver.products_clean p ON i.product_id = p.product_id\n",
    ")\n",
    "SELECT \n",
    "    i.product_id,\n",
    "    i.product_name,\n",
    "    i.category_name,\n",
    "    p.brand,\n",
    "    p.supplier_name,\n",
    "    i.warehouse_id,\n",
    "    i.warehouse_region,\n",
    "    \n",
    "    -- Current State\n",
    "    i.quantity_on_hand as current_stock_level,\n",
    "    i.quantity_reserved as reserved_quantity,\n",
    "    i.quantity_available as available_quantity,\n",
    "    i.reorder_level,\n",
    "    \n",
    "    -- Demand Patterns\n",
    "    COALESCE(da.demand_7d, 0) as demand_last_7d,\n",
    "    COALESCE(da.demand_30d, 0) as demand_last_30d,\n",
    "    COALESCE(da.demand_90d, 0) as demand_last_90d,\n",
    "    ROUND(COALESCE(da.avg_daily_demand, 0), 2) as average_daily_demand,\n",
    "    ROUND(COALESCE(da.demand_stddev, 0), 2) as demand_volatility,\n",
    "    \n",
    "    -- Supply Metrics (placeholders with realistic values)\n",
    "    FLOOR(RANDOM() * 14) + 7 as lead_time_days, -- 7-21 days\n",
    "    ROUND(RANDOM() * 0.3 + 0.7, 2) as supplier_reliability_score, -- 0.7-1.0\n",
    "    p.cost as average_cost_per_unit,\n",
    "    \n",
    "    -- Performance Metrics\n",
    "    CASE \n",
    "        WHEN i.quantity_available > 0 AND da.avg_daily_demand > 0\n",
    "        THEN ROUND(COALESCE(da.demand_90d, 0) / GREATEST(i.quantity_available, 1), 2)\n",
    "        ELSE 0\n",
    "    END as inventory_turnover_ratio,\n",
    "    CASE \n",
    "        WHEN da.avg_daily_demand > 0\n",
    "        THEN FLOOR(i.quantity_available / GREATEST(da.avg_daily_demand, 1))\n",
    "        ELSE 999\n",
    "    END as days_supply_current,\n",
    "    CASE \n",
    "        WHEN i.stock_status = 'Out of Stock' THEN 1.0\n",
    "        WHEN i.stock_status = 'Low Stock' THEN 0.7\n",
    "        ELSE 0.1\n",
    "    END as stockout_risk_score,\n",
    "    CASE \n",
    "        WHEN i.quantity_available >= i.reorder_level * 5 THEN 0.8\n",
    "        WHEN i.quantity_available >= i.reorder_level * 3 THEN 0.5\n",
    "        ELSE 0.1\n",
    "    END as overstock_risk_score,\n",
    "    \n",
    "    -- Financial Impact\n",
    "    ROUND(COALESCE(if.inventory_value, 0), 2) as inventory_value,\n",
    "    ROUND(COALESCE(if.carrying_cost_monthly, 0), 2) as carrying_cost_monthly,\n",
    "    ROUND(CASE WHEN i.stock_status = 'Out of Stock' THEN p.price * 10 ELSE 0 END, 2) as stockout_cost_risk,\n",
    "    ROUND(CASE WHEN i.overstocked THEN if.inventory_value * 0.1 ELSE 0 END, 2) as excess_inventory_cost,\n",
    "    \n",
    "    -- Optimization Recommendations\n",
    "    GREATEST(ROUND(da.avg_daily_demand * 30), i.reorder_level) as optimal_stock_level,\n",
    "    ROUND(da.avg_daily_demand * 14) as recommended_order_quantity, -- 2 weeks supply\n",
    "    ROUND(da.avg_daily_demand * 7) as reorder_point_suggestion, -- 1 week supply\n",
    "    CASE \n",
    "        WHEN COALESCE(da.demand_90d, 0) >= 1000 THEN 'A'\n",
    "        WHEN COALESCE(da.demand_90d, 0) >= 100 THEN 'B'\n",
    "        ELSE 'C'\n",
    "    END as classification,\n",
    "    \n",
    "    -- Forecasting (simplified)\n",
    "    ROUND(da.avg_daily_demand * 7) as demand_forecast_7d,\n",
    "    ROUND(da.avg_daily_demand * 30) as demand_forecast_30d,\n",
    "    ROUND(da.avg_daily_demand * 90) as demand_forecast_90d,\n",
    "    ROUND(RANDOM() * 0.3 + 0.7, 2) as forecast_accuracy_score, -- 0.7-1.0\n",
    "    \n",
    "    -- Status Flags\n",
    "    i.needs_reorder,\n",
    "    i.overstocked,\n",
    "    CASE WHEN COALESCE(da.demand_90d, 0) < 10 THEN TRUE ELSE FALSE END as is_slow_moving,\n",
    "    CASE WHEN p.product_lifecycle_stage = 'Discontinued' THEN TRUE ELSE FALSE END as is_obsolete_risk,\n",
    "    \n",
    "    -- Seasonal Patterns (placeholders)\n",
    "    ROUND(RANDOM() * 0.4 + 0.8, 2) as seasonality_factor, -- 0.8-1.2\n",
    "    'Q4' as peak_season_months,\n",
    "    'Moderate' as seasonal_demand_pattern,\n",
    "    \n",
    "    -- Metadata\n",
    "    CURRENT_DATE() as snapshot_date,\n",
    "    CURRENT_TIMESTAMP() as created_at,\n",
    "    CURRENT_TIMESTAMP() as updated_at\n",
    "FROM apjtechup.silver.inventory_clean i\n",
    "JOIN apjtechup.silver.products_clean p ON i.product_id = p.product_id\n",
    "LEFT JOIN demand_analysis da ON i.product_id = da.product_id\n",
    "LEFT JOIN inventory_financial if ON i.product_id = if.product_id AND i.warehouse_id = if.warehouse_id;\n"
   ]
  }
 ],
 "metadata": {
  "application/vnd.databricks.v1+notebook": {
   "computePreferences": null,
   "dashboards": [],
   "environmentMetadata": null,
   "inputWidgetPreferences": null,
   "language": "sql",
   "notebookMetadata": {
    "pythonIndentUnit": 4
   },
   "notebookName": "00_run_all_silver_to_gold",
   "widgets": {}
  },
  "language_info": {
   "name": "sql"
  }
 },
 "nbformat": 4,
 "nbformat_minor": 0
}
