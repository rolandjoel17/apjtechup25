{
 "cells": [
  {
   "cell_type": "markdown",
   "metadata": {
    "application/vnd.databricks.v1+cell": {
     "cellMetadata": {},
     "inputWidgets": {},
     "nuid": "9200763c-6ffb-428a-a2ce-0a0b8cbdaebf",
     "showTitle": false,
     "tableResultSettingsMap": {},
     "title": ""
    }
   },
   "source": [
    "# Silver to Gold: Customer Metrics\n",
    "\n",
    "This notebook transforms customer data from the silver layer into analytical metrics in the gold layer. It creates comprehensive customer analytics that can be used for business intelligence and customer relationship management.\n",
    "\n",
    "## Metrics Overview\n",
    "\n",
    "1. Purchase Behavior\n",
    "   - Order counts and values\n",
    "   - Total spend and average order value\n",
    "   - Items purchased and frequency\n",
    "\n",
    "2. Customer Timeline\n",
    "   - First and last order dates\n",
    "   - Days between orders\n",
    "   - Customer lifecycle tracking\n",
    "\n",
    "3. Category Preferences\n",
    "   - Favorite categories and brands\n",
    "   - Category diversity score\n",
    "   - Shopping patterns\n",
    "\n",
    "4. Lifetime Value\n",
    "   - Current customer value\n",
    "   - Predicted 12-month value\n",
    "   - Value tier classification\n",
    "\n",
    "5. Engagement Metrics\n",
    "   - Review activity\n",
    "   - Web engagement\n",
    "   - Purchase frequency\n",
    "\n",
    "6. Risk & Segmentation\n",
    "   - Churn risk scoring\n",
    "   - Customer segmentation\n",
    "   - Discount sensitivity\n",
    "\n",
    "## Dependencies\n",
    "- Silver layer tables: customers_clean, orders_clean, order_items_clean, reviews_clean, web_events_clean\n",
    "- Gold layer output: customer_metrics\n"
   ]
  },
  {
   "cell_type": "code",
   "execution_count": 0,
   "metadata": {
    "application/vnd.databricks.v1+cell": {
     "cellMetadata": {
      "byteLimit": 2048000,
      "rowLimit": 10000
     },
     "inputWidgets": {},
     "nuid": "12585d52-ebdd-4cff-ab52-c2ba38b95095",
     "showTitle": false,
     "tableResultSettingsMap": {},
     "title": ""
    },
    "vscode": {
     "languageId": "sql"
    }
   },
   "outputs": [],
   "source": [
    "-- Set up the environment\n",
    "use catalog apjtechup;\n",
    "use database gold;\n"
   ]
  },
  {
   "cell_type": "markdown",
   "metadata": {
    "application/vnd.databricks.v1+cell": {
     "cellMetadata": {},
     "inputWidgets": {},
     "nuid": "e4b44848-e933-47c4-92a0-8af3033af47d",
     "showTitle": false,
     "tableResultSettingsMap": {},
     "title": ""
    }
   },
   "source": [
    "## Create Customer Metrics Table\n",
    "\n",
    "The following query creates a comprehensive customer metrics table that combines various aspects of customer behavior and value.\n"
   ]
  },
  {
   "cell_type": "code",
   "execution_count": 0,
   "metadata": {
    "application/vnd.databricks.v1+cell": {
     "cellMetadata": {},
     "inputWidgets": {},
     "nuid": "da0dd4c3-ddcf-4eed-abe0-f135eee1ff3d",
     "showTitle": false,
     "tableResultSettingsMap": {},
     "title": ""
    },
    "vscode": {
     "languageId": "sql"
    }
   },
   "outputs": [],
   "source": [
    "-- Create customer metrics table\n",
    "CREATE OR REPLACE TABLE customer_metrics USING ICEBERG\n",
    "WITH customer_orders AS (\n",
    "    SELECT \n",
    "        o.customer_id,\n",
    "        COUNT(DISTINCT o.order_id) as total_orders,\n",
    "        SUM(o.total_amount) as total_spent,\n",
    "        AVG(o.total_amount) as avg_order_value,\n",
    "        SUM(oi.quantity) as total_items_purchased,\n",
    "        AVG(oi.quantity) as avg_items_per_order,\n",
    "        MIN(o.order_date_only) as first_order_date,\n",
    "        MAX(o.order_date_only) as last_order_date,\n",
    "        SUM(CASE WHEN o.has_discount THEN o.discount_amount ELSE 0 END) as total_discount_amount,\n",
    "        AVG(CASE WHEN o.has_discount THEN o.discount_percentage ELSE 0 END) as avg_discount_percentage,\n",
    "        COUNT(CASE WHEN o.has_discount THEN 1 END) as orders_with_discount\n",
    "    FROM apjtechup.silver.orders_clean o\n",
    "    LEFT JOIN apjtechup.silver.order_items_clean oi ON o.order_id = oi.order_id\n",
    "    GROUP BY all\n",
    "),\n",
    "customer_reviews AS (\n",
    "    SELECT \n",
    "        customer_id,\n",
    "        COUNT(*) as total_reviews,\n",
    "        AVG(rating) as avg_rating_given\n",
    "    FROM apjtechup.silver.reviews_clean\n",
    "    GROUP BY all\n",
    "),\n",
    "customer_web_activity AS (\n",
    "    SELECT \n",
    "        customer_id,\n",
    "        COUNT(*) as total_web_events,\n",
    "        COUNT(CASE WHEN event_category = 'Purchase' THEN 1 END) as purchase_events,\n",
    "        COUNT(CASE WHEN event_category = 'Cart Activity' THEN 1 END) as cart_events,\n",
    "        COUNT(CASE WHEN event_category = 'Browsing' THEN 1 END) as browsing_events\n",
    "    FROM apjtechup.silver.web_events_clean\n",
    "    WHERE customer_id IS NOT NULL\n",
    "    GROUP BY all\n",
    "),\n",
    "customer_preferences AS (\n",
    "    WITH category_brand_counts AS (\n",
    "        SELECT\n",
    "            o.customer_id,\n",
    "            oi.category_name,\n",
    "            oi.brand,\n",
    "            COUNT(*) AS cnt\n",
    "        FROM apjtechup.silver.orders_clean o\n",
    "        JOIN apjtechup.silver.order_items_clean oi\n",
    "            ON o.order_id = oi.order_id\n",
    "        GROUP BY\n",
    "            o.customer_id,\n",
    "            oi.category_name,\n",
    "            oi.brand\n",
    "    ),\n",
    "    ranked AS (\n",
    "        SELECT\n",
    "            customer_id,\n",
    "            category_name,\n",
    "            brand,\n",
    "            cnt,\n",
    "            ROW_NUMBER() OVER (\n",
    "                PARTITION BY customer_id\n",
    "                ORDER BY cnt DESC\n",
    "            ) AS rn\n",
    "        FROM category_brand_counts\n",
    "    )\n",
    "    SELECT\n",
    "        c.customer_id,\n",
    "        c.category_name AS favorite_category,\n",
    "        c.brand AS favorite_brand,\n",
    "        (\n",
    "            SELECT COUNT(DISTINCT category_name)\n",
    "            FROM category_brand_counts cb\n",
    "            WHERE cb.customer_id = c.customer_id\n",
    "        ) AS category_count\n",
    "    FROM ranked c\n",
    "    WHERE c.rn = 1\n",
    ")\n",
    "SELECT \n",
    "    c.customer_id,\n",
    "    c.full_name as customer_name,\n",
    "    c.email,\n",
    "    c.registration_date,\n",
    "    c.age,\n",
    "    c.age_group,\n",
    "    c.customer_tier,\n",
    "    \n",
    "    -- Purchase Behavior Metrics\n",
    "    COALESCE(co.total_orders, 0) as total_orders,\n",
    "    COALESCE(co.total_spent, 0) as total_spent,\n",
    "    ROUND(COALESCE(co.avg_order_value, 0), 2) as average_order_value,\n",
    "    COALESCE(co.total_items_purchased, 0) as total_items_purchased,\n",
    "    ROUND(COALESCE(co.avg_items_per_order, 0), 2) as average_items_per_order,\n",
    "    \n",
    "    -- Timing Metrics\n",
    "    co.first_order_date,\n",
    "    co.last_order_date,\n",
    "    CASE \n",
    "        WHEN co.first_order_date IS NOT NULL \n",
    "        THEN DATEDIFF(CURRENT_DATE(), co.first_order_date)\n",
    "        ELSE NULL\n",
    "    END as days_since_first_order,\n",
    "    CASE \n",
    "        WHEN co.last_order_date IS NOT NULL \n",
    "        THEN DATEDIFF(CURRENT_DATE(), co.last_order_date)\n",
    "        ELSE NULL\n",
    "    END as days_since_last_order,\n",
    "    CASE \n",
    "        WHEN co.total_orders > 1 AND co.first_order_date IS NOT NULL AND co.last_order_date IS NOT NULL\n",
    "        THEN ROUND(DATEDIFF(co.last_order_date, co.first_order_date) / GREATEST(co.total_orders - 1, 1), 2)\n",
    "        ELSE NULL\n",
    "    END as average_days_between_orders,\n",
    "    \n",
    "    -- Category Preferences\n",
    "    cp.favorite_category,\n",
    "    cp.favorite_brand,\n",
    "    ROUND(COALESCE(cp.category_count, 0) / GREATEST(COALESCE(co.total_orders, 1), 1), 2) as category_diversity_score,\n",
    "    \n",
    "    -- Lifetime Value Metrics\n",
    "    ROUND(COALESCE(co.total_spent, 0), 2) as customer_lifetime_value,\n",
    "    ROUND(\n",
    "        CASE \n",
    "            WHEN co.total_orders > 0 AND co.first_order_date IS NOT NULL\n",
    "            THEN co.total_spent * (365.0 / GREATEST(DATEDIFF(CURRENT_DATE(), co.first_order_date), 1))\n",
    "            ELSE 0\n",
    "        END, 2\n",
    "    ) as predicted_ltv_12m,\n",
    "    CASE \n",
    "        WHEN COALESCE(co.total_spent, 0) >= 1000 THEN 'High Value'\n",
    "        WHEN COALESCE(co.total_spent, 0) >= 500 THEN 'Medium Value'\n",
    "        WHEN COALESCE(co.total_spent, 0) >= 100 THEN 'Low Value'\n",
    "        ELSE 'New/Inactive'\n",
    "    END as ltv_tier,\n",
    "    \n",
    "    -- Engagement Metrics\n",
    "    COALESCE(cr.total_reviews, 0) as total_reviews,\n",
    "    ROUND(COALESCE(cr.avg_rating_given, 0), 2) as average_rating_given,\n",
    "    COALESCE(cwa.total_web_events, 0) as total_web_events,\n",
    "    ROUND(\n",
    "        CASE \n",
    "            WHEN COALESCE(cwa.total_web_events, 0) > 0\n",
    "            THEN (COALESCE(cwa.purchase_events, 0) * 3 + COALESCE(cwa.cart_events, 0) * 2 + COALESCE(cwa.browsing_events, 0)) / \n",
    "                 GREATEST(COALESCE(cwa.total_web_events, 1), 1)\n",
    "            ELSE 0\n",
    "        END, 2\n",
    "    ) as web_engagement_score,\n",
    "    \n",
    "    -- Risk & Segmentation\n",
    "    CASE \n",
    "        WHEN co.last_order_date IS NULL THEN 1.0\n",
    "        WHEN DATEDIFF(CURRENT_DATE(), co.last_order_date) > 180 THEN 0.9\n",
    "        WHEN DATEDIFF(CURRENT_DATE(), co.last_order_date) > 90 THEN 0.6\n",
    "        WHEN DATEDIFF(CURRENT_DATE(), co.last_order_date) > 30 THEN 0.3\n",
    "        ELSE 0.1\n",
    "    END as churn_risk_score,\n",
    "    CASE \n",
    "        WHEN co.last_order_date IS NULL THEN 'High Risk'\n",
    "        WHEN DATEDIFF(CURRENT_DATE(), co.last_order_date) > 180 THEN 'High Risk'\n",
    "        WHEN DATEDIFF(CURRENT_DATE(), co.last_order_date) > 90 THEN 'Medium Risk'\n",
    "        WHEN DATEDIFF(CURRENT_DATE(), co.last_order_date) > 30 THEN 'Low Risk'\n",
    "        ELSE 'Active'\n",
    "    END as churn_risk_category,\n",
    "    CASE \n",
    "        WHEN COALESCE(co.total_orders, 0) >= 10 AND COALESCE(co.total_spent, 0) >= 1000 THEN 'VIP'\n",
    "        WHEN COALESCE(co.total_orders, 0) >= 5 AND COALESCE(co.total_spent, 0) >= 500 THEN 'Loyal'\n",
    "        WHEN COALESCE(co.total_orders, 0) >= 2 THEN 'Regular'\n",
    "        WHEN COALESCE(co.total_orders, 0) = 1 THEN 'One-time'\n",
    "        ELSE 'Prospect'\n",
    "    END as customer_segment,\n",
    "    \n",
    "    -- Discount Behavior\n",
    "    ROUND(COALESCE(co.total_discount_amount, 0), 2) as total_discount_amount,\n",
    "    ROUND(COALESCE(co.avg_discount_percentage, 0), 2) as discount_percentage_avg,\n",
    "    CASE \n",
    "        WHEN COALESCE(co.orders_with_discount, 0) > COALESCE(co.total_orders, 0) * 0.5 THEN TRUE\n",
    "        ELSE FALSE\n",
    "    END as is_discount_sensitive,\n",
    "    \n",
    "    -- Metadata\n",
    "    CURRENT_TIMESTAMP() as created_at,\n",
    "    CURRENT_TIMESTAMP() as updated_at\n",
    "FROM apjtechup.silver.customers_clean c\n",
    "LEFT JOIN customer_orders co ON c.customer_id = co.customer_id\n",
    "LEFT JOIN customer_reviews cr ON c.customer_id = cr.customer_id\n",
    "LEFT JOIN customer_web_activity cwa ON c.customer_id = cwa.customer_id\n",
    "LEFT JOIN customer_preferences cp ON c.customer_id = cp.customer_id;\n"
   ]
  },
  {
   "cell_type": "markdown",
   "metadata": {
    "application/vnd.databricks.v1+cell": {
     "cellMetadata": {},
     "inputWidgets": {},
     "nuid": "b4596108-6cb5-4956-b798-9fdd60f0568c",
     "showTitle": false,
     "tableResultSettingsMap": {},
     "title": ""
    }
   },
   "source": [
    "## Generate Summary Statistics\n",
    "\n",
    "Creating summary views to analyze the customer metrics data.\n"
   ]
  },
  {
   "cell_type": "code",
   "execution_count": 0,
   "metadata": {
    "application/vnd.databricks.v1+cell": {
     "cellMetadata": {},
     "inputWidgets": {},
     "nuid": "6a120d9f-af2d-4d03-aad3-f95e9ef761cb",
     "showTitle": false,
     "tableResultSettingsMap": {},
     "title": ""
    },
    "vscode": {
     "languageId": "sql"
    }
   },
   "outputs": [],
   "source": [
    "-- Create summary statistics\n",
    "CREATE OR REPLACE TEMPORARY VIEW customer_metrics_summary AS\n",
    "SELECT \n",
    "    COUNT(*) as total_customers,\n",
    "    COUNT(CASE WHEN total_orders > 0 THEN 1 END) as customers_with_orders,\n",
    "    ROUND(AVG(customer_lifetime_value), 2) as avg_customer_ltv,\n",
    "    ROUND(AVG(total_orders), 2) as avg_orders_per_customer,\n",
    "    ROUND(AVG(average_order_value), 2) as avg_order_value,\n",
    "    COUNT(CASE WHEN ltv_tier = 'High Value' THEN 1 END) as high_value_customers,\n",
    "    COUNT(CASE WHEN ltv_tier = 'Medium Value' THEN 1 END) as medium_value_customers,\n",
    "    COUNT(CASE WHEN ltv_tier = 'Low Value' THEN 1 END) as low_value_customers,\n",
    "    COUNT(CASE WHEN customer_segment = 'VIP' THEN 1 END) as vip_customers,\n",
    "    COUNT(CASE WHEN customer_segment = 'Loyal' THEN 1 END) as loyal_customers,\n",
    "    COUNT(CASE WHEN churn_risk_category = 'High Risk' THEN 1 END) as high_churn_risk,\n",
    "    COUNT(CASE WHEN churn_risk_category = 'Medium Risk' THEN 1 END) as medium_churn_risk,\n",
    "    COUNT(CASE WHEN is_discount_sensitive = TRUE THEN 1 END) as discount_sensitive_customers\n",
    "FROM customer_metrics;\n",
    "\n",
    "-- Display summary\n",
    "SELECT 'Customer Metrics Summary' as report_type;\n",
    "SELECT * FROM customer_metrics_summary;\n"
   ]
  },
  {
   "cell_type": "markdown",
   "metadata": {
    "application/vnd.databricks.v1+cell": {
     "cellMetadata": {},
     "inputWidgets": {},
     "nuid": "08179209-33f5-42cb-91f7-636acaa5f6c3",
     "showTitle": false,
     "tableResultSettingsMap": {},
     "title": ""
    }
   },
   "source": [
    "## Top Customer Analysis\n",
    "\n",
    "Analyzing the top customers by lifetime value and their characteristics.\n"
   ]
  },
  {
   "cell_type": "code",
   "execution_count": 0,
   "metadata": {
    "application/vnd.databricks.v1+cell": {
     "cellMetadata": {},
     "inputWidgets": {},
     "nuid": "3aab8e78-fdf4-473c-8ce9-2e031dfc4415",
     "showTitle": false,
     "tableResultSettingsMap": {},
     "title": ""
    },
    "vscode": {
     "languageId": "sql"
    }
   },
   "outputs": [],
   "source": [
    "-- Top customers by LTV\n",
    "SELECT 'Top 10 Customers by LTV' as report_type;\n",
    "SELECT \n",
    "    customer_name,\n",
    "    customer_tier,\n",
    "    customer_segment,\n",
    "    total_orders,\n",
    "    customer_lifetime_value,\n",
    "    average_order_value,\n",
    "    favorite_category,\n",
    "    churn_risk_category\n",
    "FROM customer_metrics \n",
    "WHERE total_orders > 0\n",
    "ORDER BY customer_lifetime_value DESC \n",
    "LIMIT 10;\n"
   ]
  },
  {
   "cell_type": "markdown",
   "metadata": {
    "application/vnd.databricks.v1+cell": {
     "cellMetadata": {},
     "inputWidgets": {},
     "nuid": "88ff61f4-f05c-4b45-b170-5c3dcee8cd2f",
     "showTitle": false,
     "tableResultSettingsMap": {},
     "title": ""
    }
   },
   "source": [
    "## Customer Segment Analysis\n",
    "\n",
    "Analyzing customer segments and their characteristics.\n"
   ]
  },
  {
   "cell_type": "code",
   "execution_count": 0,
   "metadata": {
    "application/vnd.databricks.v1+cell": {
     "cellMetadata": {},
     "inputWidgets": {},
     "nuid": "857b5e67-558c-4355-bf4b-fd7e72bbb066",
     "showTitle": false,
     "tableResultSettingsMap": {},
     "title": ""
    },
    "vscode": {
     "languageId": "sql"
    }
   },
   "outputs": [],
   "source": [
    "-- Customer segment distribution\n",
    "SELECT 'Customer Segment Distribution' as report_type;\n",
    "SELECT \n",
    "    customer_segment,\n",
    "    COUNT(*) as customer_count,\n",
    "    ROUND(AVG(customer_lifetime_value), 2) as avg_ltv,\n",
    "    ROUND(AVG(total_orders), 2) as avg_orders,\n",
    "    ROUND(AVG(average_order_value), 2) as avg_order_value\n",
    "FROM customer_metrics\n",
    "GROUP BY customer_segment\n",
    "ORDER BY avg_ltv DESC;\n"
   ]
  },
  {
   "cell_type": "markdown",
   "metadata": {
    "application/vnd.databricks.v1+cell": {
     "cellMetadata": {},
     "inputWidgets": {},
     "nuid": "e67c4335-153c-4911-aec4-dbb6957b8698",
     "showTitle": false,
     "tableResultSettingsMap": {},
     "title": ""
    }
   },
   "source": [
    "## Optimize Table\n",
    "\n",
    "Optimizing the customer metrics table for better query performance.\n"
   ]
  },
  {
   "cell_type": "code",
   "execution_count": 0,
   "metadata": {
    "application/vnd.databricks.v1+cell": {
     "cellMetadata": {
      "byteLimit": 2048000,
      "rowLimit": 10000
     },
     "inputWidgets": {},
     "nuid": "99fe038a-5bb7-4a8a-92be-911a3172a992",
     "showTitle": false,
     "tableResultSettingsMap": {},
     "title": ""
    },
    "vscode": {
     "languageId": "sql"
    }
   },
   "outputs": [],
   "source": [
    "-- Optimize table\n",
    "OPTIMIZE customer_metrics;\n"
   ]
  }
 ],
 "metadata": {
  "application/vnd.databricks.v1+notebook": {
   "computePreferences": null,
   "dashboards": [],
   "environmentMetadata": null,
   "inputWidgetPreferences": null,
   "language": "sql",
   "notebookMetadata": {
    "pythonIndentUnit": 4
   },
   "notebookName": "01_silver_to_gold_customer_metrics",
   "widgets": {}
  },
  "language_info": {
   "name": "sql"
  }
 },
 "nbformat": 4,
 "nbformat_minor": 0
}
